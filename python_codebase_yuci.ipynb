{
 "cells": [
  {
   "cell_type": "code",
   "execution_count": 1,
   "metadata": {},
   "outputs": [],
   "source": [
    "import pandas as pd\n",
    "import re\n",
    "import nltk\n",
    "import matplotlib.pyplot as plt\n",
    "import spacy\n",
    "import seaborn as sns\n",
    "import numpy as np\n",
    "from nltk.corpus import stopwords\n",
    "from spacy.lang.en import STOP_WORDS as stopwords_spacy\n",
    "from sklearn.feature_extraction.text import ENGLISH_STOP_WORDS as stopwords_sklearn\n",
    "from nltk.tokenize import word_tokenize\n",
    "from nltk.stem import PorterStemmer, WordNetLemmatizer\n",
    "from nltk.sentiment.vader import SentimentIntensityAnalyzer\n",
    "from textblob import TextBlob\n",
    "from sklearn.metrics import confusion_matrix\n",
    "from transformers import pipeline\n",
    "from textblob import TextBlob"
   ]
  },
  {
   "cell_type": "markdown",
   "metadata": {},
   "source": [
    "# 1. Preprocess Twitter Dataset\n",
    "\n",
    "* Preliminary Data Cleaning\n",
    "* Advanced Data Cleaning"
   ]
  },
  {
   "cell_type": "markdown",
   "metadata": {},
   "source": [
    "### Read in the twitter_training.csv"
   ]
  },
  {
   "cell_type": "code",
   "execution_count": 2,
   "metadata": {},
   "outputs": [],
   "source": [
    "# Read in the twitter_training.csv\n",
    "TWITTER_FILE_PATH = \"twitter_training.csv\"\n",
    "twitter_data = pd.read_csv(TWITTER_FILE_PATH)"
   ]
  },
  {
   "cell_type": "markdown",
   "metadata": {},
   "source": [
    "### Run summary/descriptive statistics tests on the data (e.g. head, describe, etc)"
   ]
  },
  {
   "cell_type": "code",
   "execution_count": 3,
   "metadata": {},
   "outputs": [
    {
     "name": "stdout",
     "output_type": "stream",
     "text": [
      "Twitter Data Length: 74681\n",
      "\n",
      "   2401  Borderlands  Positive  \\\n",
      "0  2401  Borderlands  Positive   \n",
      "1  2401  Borderlands  Positive   \n",
      "2  2401  Borderlands  Positive   \n",
      "3  2401  Borderlands  Positive   \n",
      "4  2401  Borderlands  Positive   \n",
      "\n",
      "  im getting on borderlands and i will murder you all ,  \n",
      "0  I am coming to the borders and I will kill you...     \n",
      "1  im getting on borderlands and i will kill you ...     \n",
      "2  im coming on borderlands and i will murder you...     \n",
      "3  im getting on borderlands 2 and i will murder ...     \n",
      "4  im getting into borderlands and i can murder y...     \n",
      "\n",
      "               2401\n",
      "count  74681.000000\n",
      "mean    6432.640149\n",
      "std     3740.423819\n",
      "min        1.000000\n",
      "25%     3195.000000\n",
      "50%     6422.000000\n",
      "75%     9601.000000\n",
      "max    13200.000000\n"
     ]
    }
   ],
   "source": [
    "twitter_data_length = len(twitter_data)\n",
    "\n",
    "print(f\"Twitter Data Length: {twitter_data_length}\\n\")\n",
    "print(twitter_data.head())\n",
    "print(\"\")\n",
    "print(twitter_data.describe())"
   ]
  },
  {
   "cell_type": "markdown",
   "metadata": {},
   "source": [
    "### Rename this dataframe to pre_df"
   ]
  },
  {
   "cell_type": "code",
   "execution_count": 4,
   "metadata": {},
   "outputs": [],
   "source": [
    "pre_df = twitter_data.copy()"
   ]
  },
  {
   "cell_type": "code",
   "execution_count": 5,
   "metadata": {},
   "outputs": [],
   "source": [
    "# Add a row on the top of the dataframe to represent column names of each column\n",
    "column_names = [\"ID\", \"Game\", \"Label\", \"Text\"]\n",
    "pre_df.columns = column_names"
   ]
  },
  {
   "cell_type": "code",
   "execution_count": 6,
   "metadata": {},
   "outputs": [
    {
     "data": {
      "text/plain": [
       "array(['Positive', 'Neutral', 'Negative', 'Irrelevant'], dtype=object)"
      ]
     },
     "execution_count": 6,
     "metadata": {},
     "output_type": "execute_result"
    }
   ],
   "source": [
    "pre_df[\"Label\"].unique()"
   ]
  },
  {
   "cell_type": "markdown",
   "metadata": {},
   "source": [
    "## Data Visualization"
   ]
  },
  {
   "cell_type": "code",
   "execution_count": 7,
   "metadata": {},
   "outputs": [
    {
     "data": {
      "image/png": "[encoded data removed]",
      "text/plain": [
       "<Figure size 800x600 with 1 Axes>"
      ]
     },
     "metadata": {},
     "output_type": "display_data"
    }
   ],
   "source": [
    "label_counts = pre_df[\"Label\"].value_counts()\n",
    "\n",
    "plt.figure(figsize=(8, 6))\n",
    "label_counts.plot(kind=\"bar\")\n",
    "plt.title(\"Distribution of Labels\")\n",
    "plt.xlabel(\"Labels\")\n",
    "plt.ylabel(\"Count\")\n",
    "# plt.xticks(rotation=45)\n",
    "plt.tight_layout()\n",
    "\n",
    "plt.show()"
   ]
  },
  {
   "cell_type": "markdown",
   "metadata": {},
   "source": [
    "## 1.1 Preliminary Data Cleaning"
   ]
  },
  {
   "cell_type": "markdown",
   "metadata": {},
   "source": [
    "### Complete several text transoformations:\n",
    "\n",
    "* Determine if there are missing values\n",
    "* Determine what to fill these missing values with"
   ]
  },
  {
   "cell_type": "code",
   "execution_count": 8,
   "metadata": {},
   "outputs": [
    {
     "name": "stdout",
     "output_type": "stream",
     "text": [
      "Missing Text Rows:\n",
      "          ID                       Game       Label Text\n",
      "2291   1602  CallOfDutyBlackopsColdWar  Irrelevant     \n",
      "2993   1719  CallOfDutyBlackopsColdWar    Positive     \n",
      "3239   1763  CallOfDutyBlackopsColdWar     Neutral     \n",
      "3935   1880  CallOfDutyBlackopsColdWar    Negative     \n",
      "4229   1929  CallOfDutyBlackopsColdWar    Negative     \n",
      "...     ...                        ...         ...  ...\n",
      "73229  8945                     Nvidia    Positive     \n",
      "73517  8993                     Nvidia     Neutral     \n",
      "73757  9036                     Nvidia    Negative     \n",
      "73967  9073                     Nvidia    Positive     \n",
      "74417  9154                     Nvidia    Positive     \n",
      "\n",
      "[172 rows x 4 columns]\n",
      "NaN Rows:\n",
      "          ID         Game     Label Text\n",
      "60     2411  Borderlands   Neutral  NaN\n",
      "552    2496  Borderlands   Neutral  NaN\n",
      "588    2503  Borderlands   Neutral  NaN\n",
      "744    2532  Borderlands  Positive  NaN\n",
      "1104   2595  Borderlands  Positive  NaN\n",
      "...     ...          ...       ...  ...\n",
      "73971  9073       Nvidia  Positive  NaN\n",
      "73972  9073       Nvidia  Positive  NaN\n",
      "74420  9154       Nvidia  Positive  NaN\n",
      "74421  9154       Nvidia  Positive  NaN\n",
      "74422  9154       Nvidia  Positive  NaN\n",
      "\n",
      "[686 rows x 4 columns]\n"
     ]
    }
   ],
   "source": [
    "# Check for missing values in the \"Text\" column\n",
    "missing_text_rows = pre_df[pre_df[\"Text\"] == \" \"]\n",
    "\n",
    "print(f\"Missing Text Rows:\\n {missing_text_rows}\")\n",
    "\n",
    "# Check for NaN in the \"Text\" column\n",
    "nan_rows = pre_df[pre_df[\"Text\"].isna()]\n",
    "\n",
    "print(f\"NaN Rows:\\n {nan_rows}\")"
   ]
  },
  {
   "cell_type": "code",
   "execution_count": 9,
   "metadata": {},
   "outputs": [],
   "source": [
    "# Fill missing values with \"Unknown\" in the \"Text\" column \n",
    "pre_df.loc[missing_text_rows.index, \"Text\"] = \"Unknown\"\n",
    "pre_df.loc[nan_rows.index, \"Text\"] = \"Unknown\""
   ]
  },
  {
   "cell_type": "markdown",
   "metadata": {},
   "source": [
    "### Change/verify relevant column data types"
   ]
  },
  {
   "cell_type": "code",
   "execution_count": 10,
   "metadata": {},
   "outputs": [
    {
     "name": "stdout",
     "output_type": "stream",
     "text": [
      "ID        int64\n",
      "Game     object\n",
      "Label    object\n",
      "Text     object\n",
      "dtype: object\n"
     ]
    }
   ],
   "source": [
    "# Check the data types of the columns\n",
    "column_datatypes = pre_df.dtypes\n",
    "\n",
    "print(column_datatypes)"
   ]
  },
  {
   "cell_type": "markdown",
   "metadata": {},
   "source": [
    "### Lowercase"
   ]
  },
  {
   "cell_type": "code",
   "execution_count": 11,
   "metadata": {},
   "outputs": [],
   "source": [
    "# Lower case\n",
    "pre_df[\"Lower_Text\"] = pre_df[\"Text\"].str.lower()"
   ]
  },
  {
   "cell_type": "markdown",
   "metadata": {},
   "source": [
    "### Remove non-ASCII characters and fill with whitespace"
   ]
  },
  {
   "cell_type": "code",
   "execution_count": 12,
   "metadata": {},
   "outputs": [],
   "source": [
    "# Remove all non-ASCII characters and fill with whitespace\n",
    "pre_df[\"Remove_non_Ascii\"] = pre_df[\"Lower_Text\"].apply(lambda x: re.sub(r'[^\\x00-\\x7F]+', \" \", x))"
   ]
  },
  {
   "cell_type": "markdown",
   "metadata": {},
   "source": [
    "### Remove additional whitespace (stripping)"
   ]
  },
  {
   "cell_type": "code",
   "execution_count": 13,
   "metadata": {},
   "outputs": [],
   "source": [
    "# Remove additional whitespace (stripping)\n",
    "pre_df[\"Remove_Whitespace\"] = pre_df[\"Remove_non_Ascii\"].str.strip()"
   ]
  },
  {
   "cell_type": "markdown",
   "metadata": {},
   "source": [
    "### Split the string info into a list of strings that are each one word (tokenization)"
   ]
  },
  {
   "cell_type": "code",
   "execution_count": 14,
   "metadata": {},
   "outputs": [],
   "source": [
    "pre_df[\"Tokenized_Text\"] = pre_df[\"Remove_Whitespace\"].apply(word_tokenize)"
   ]
  },
  {
   "cell_type": "markdown",
   "metadata": {},
   "source": [
    "## 1.2 Advanced Data Cleaning"
   ]
  },
  {
   "cell_type": "markdown",
   "metadata": {},
   "source": [
    "### Remove \"\\n\" and other symbols followed by letters"
   ]
  },
  {
   "cell_type": "code",
   "execution_count": 15,
   "metadata": {},
   "outputs": [],
   "source": [
    "# Remove \"\\n\" and other symbols followed by letters\n",
    "pre_df[\"Remove_n\"] = pre_df[\"Remove_Whitespace\"].apply(lambda x: re.sub(r\"\\n\\w*\", \" \", x))"
   ]
  },
  {
   "cell_type": "markdown",
   "metadata": {},
   "source": [
    "### Remove emojis and emoticons\n",
    "\n",
    "Handling emojis and emoticons:\n",
    "\n",
    "During sentiment analysis, the model only considers textual content. Elements like emojis and emoticons aren't important for the task, thus can be omitted.\n",
    "\n",
    "However, if we aim to retain the impact of emojis and emoticons, there's a possibility to convert them into numerical values."
   ]
  },
  {
   "cell_type": "code",
   "execution_count": 16,
   "metadata": {},
   "outputs": [],
   "source": [
    "pre_df[\"Remove_Emoji\"] = pre_df[\"Remove_n\"].apply(lambda x: x.encode(\"ascii\", \"ignore\").decode(\"ascii\"))"
   ]
  },
  {
   "cell_type": "markdown",
   "metadata": {},
   "source": [
    "### Fix Spelling Error\n",
    "\n",
    "Handling spelling errors:\n",
    "\n",
    "Spelling mistakes can introduce noise in sentiment analysis tasks. One approach is to simply ignore the errors. Alternatively, we can employ libraries such as PySpellChecker or TextBlob to solve spelling issues."
   ]
  },
  {
   "cell_type": "code",
   "execution_count": null,
   "metadata": {},
   "outputs": [],
   "source": [
    "def correct_spelling(text):\n",
    "    \"\"\"Correct the spelling of the given text using TextBlob.\"\"\"\n",
    "    blob = TextBlob(text)\n",
    "    return str(blob.correct())\n",
    "\n",
    "pre_df[\"Fixed_Spelling\"] = pre_df[\"Remove_Emoji\"].apply(correct_spelling)\n",
    "\n",
    "pre_df"
   ]
  },
  {
   "cell_type": "markdown",
   "metadata": {},
   "source": [
    "### ***The execution took too long***"
   ]
  },
  {
   "cell_type": "markdown",
   "metadata": {},
   "source": [
    "### Remove stopwords"
   ]
  },
  {
   "cell_type": "code",
   "execution_count": 17,
   "metadata": {},
   "outputs": [
    {
     "name": "stderr",
     "output_type": "stream",
     "text": [
      "[nltk_data] Downloading package stopwords to /Users/yu/nltk_data...\n",
      "[nltk_data]   Package stopwords is already up-to-date!\n"
     ]
    }
   ],
   "source": [
    "nltk.download(\"stopwords\")\n",
    "\n",
    "def remove_stopwords_nltk(text):\n",
    "    \"\"\"Remove stopwords from the given text using NLTK.\"\"\"\n",
    "    stopwords_nltk = set(stopwords.words(\"english\"))\n",
    "    tokens = word_tokenize(text)\n",
    "    return \" \".join([token for token in tokens if token not in stopwords_nltk])\n",
    "    \n",
    "def remove_stopwords_spacy(text):\n",
    "    \"\"\"Remove stopwords from the given text using SpaCy.\"\"\"\n",
    "    tokens = word_tokenize(text)\n",
    "    return \" \".join([token for token in tokens if token not in stopwords_spacy])\n",
    "\n",
    "def remove_stopwords_textblob(text):\n",
    "    \"\"\"Remove stopwords from the given text using TextBlob.\"\"\"\n",
    "    tokens = word_tokenize(text)\n",
    "    stopwords_textblob = set(stopwords.words(\"english\"))\n",
    "    return \" \".join([token for token in tokens if token not in stopwords_textblob])\n",
    "\n",
    "def remove_stopwords_sklearn(text):\n",
    "    \"\"\"Remove stopwords from the given text using Scikit-learn.\"\"\"\n",
    "    tokens = word_tokenize(text)\n",
    "    return \" \".join([token for token in tokens if token not in stopwords_sklearn])"
   ]
  },
  {
   "cell_type": "code",
   "execution_count": 18,
   "metadata": {},
   "outputs": [],
   "source": [
    "pre_df[\"Remove_Stopwords_NLTK\"] = pre_df[\"Remove_Emoji\"].apply(remove_stopwords_nltk)\n",
    "pre_df[\"Remove_Stopwords_SpaCy\"] = pre_df[\"Remove_Emoji\"].apply(remove_stopwords_spacy)\n",
    "pre_df[\"Remove_Stopwords_Textblob\"] = pre_df[\"Remove_Emoji\"].apply(remove_stopwords_textblob)\n",
    "pre_df[\"Remove_Stopwords_Sklearn\"] = pre_df[\"Remove_Emoji\"].apply(remove_stopwords_sklearn)"
   ]
  },
  {
   "cell_type": "markdown",
   "metadata": {},
   "source": [
    "### Stemming and Lemmatization (on NLTK)\n",
    "\n",
    "In my opinion, stemming is preferable to lemmatization. Instead of reducing words to their base form, stemming only removes suffixes from the root, which can preserve more information and also may be faster in computation."
   ]
  },
  {
   "cell_type": "code",
   "execution_count": 19,
   "metadata": {},
   "outputs": [],
   "source": [
    "stemmer = PorterStemmer()\n",
    "lemmatizer = WordNetLemmatizer()\n",
    "\n",
    "# Stemming and lemmatization on ntlk\n",
    "def stemming_nltk(text):\n",
    "    \"\"\"Perform stemming using NLTK.\"\"\"\n",
    "    tokens = word_tokenize(text)\n",
    "    stemmed_tokens = [stemmer.stem(token) for token in tokens]\n",
    "    return \" \".join(stemmed_tokens)\n",
    "\n",
    "def lemmatization_nltk(text):\n",
    "    \"\"\"Perform lemmatization using NLTK.\"\"\"\n",
    "    tokens = word_tokenize(text)\n",
    "    lemmatized_tokens = [lemmatizer.lemmatize(token) for token in tokens]\n",
    "    return \" \".join(lemmatized_tokens)"
   ]
  },
  {
   "cell_type": "code",
   "execution_count": 20,
   "metadata": {},
   "outputs": [],
   "source": [
    "pre_df[\"Stemmed_Text_NLTK\"] = pre_df[\"Remove_Stopwords_NLTK\"].apply(stemming_nltk)\n",
    "pre_df[\"Lemmatized_Text_NLTK\"] = pre_df[\"Remove_Stopwords_NLTK\"].apply(lemmatization_nltk)"
   ]
  },
  {
   "cell_type": "markdown",
   "metadata": {},
   "source": [
    "### Remove numbers\n",
    "\n",
    "Whether or not to remove numbers depends on their role in the dataset. In Twitter datasets, numbers often represent user IDs, timestamps, email addresses, and more. However, such numerical data isn't important to sentiment analysis. Therefore, removing numbers is a viable option."
   ]
  },
  {
   "cell_type": "code",
   "execution_count": 21,
   "metadata": {},
   "outputs": [],
   "source": [
    "pre_df[\"Remove_Numbers\"] = pre_df[\"Stemmed_Text_NLTK\"].apply(lambda x: re.sub(r\"\\d+\", \" \", x))"
   ]
  },
  {
   "cell_type": "markdown",
   "metadata": {},
   "source": [
    "### Remove non alphabetic words\n",
    "\n",
    "non_alphabetic words in the data: [`.`, `@`, `&`, `/`, `(`, `)`, `<`, `>`, `!`, `?`, `+`, `%`, `*`, `_`, `[`, `]`, `$`, `-`, `:`, `~`, `\"`]"
   ]
  },
  {
   "cell_type": "code",
   "execution_count": 22,
   "metadata": {},
   "outputs": [],
   "source": [
    "def remove_non_alphabetic(text):\n",
    "    \"\"\"Remove non-alphabetic characters from the given text.\"\"\"\n",
    "    return \" \".join(re.findall(r\"\\b[a-zA-Z]+\\b\", text))\n",
    "\n",
    "pre_df[\"Remove_non_Alphabetic\"] = pre_df[\"Remove_Numbers\"].apply(remove_non_alphabetic)"
   ]
  },
  {
   "cell_type": "markdown",
   "metadata": {},
   "source": [
    "### Create an output of this dataset as a csv file"
   ]
  },
  {
   "cell_type": "code",
   "execution_count": 50,
   "metadata": {},
   "outputs": [],
   "source": [
    "OUTPUT_FILE_PATH = \"/Users/yu/Desktop/uds_ws2324/tools_for_nlp/assignment/final_project/twitter_data_preprocessed.csv\"\n",
    "pre_df.to_csv(OUTPUT_FILE_PATH, index=False)"
   ]
  },
  {
   "cell_type": "markdown",
   "metadata": {},
   "source": [
    "# 2. Create a functioning class that packages all the items "
   ]
  },
  {
   "cell_type": "code",
   "execution_count": 23,
   "metadata": {},
   "outputs": [
    {
     "name": "stdout",
     "output_type": "stream",
     "text": [
      "Preprocessed data saved.\n"
     ]
    }
   ],
   "source": [
    "class TwitterDataPreprocessor:\n",
    "    \"\"\"A class for preprocessing Twitter data\"\"\"\n",
    "\n",
    "    def __init__(self, file_path):\n",
    "        \"\"\"Initialize the TwitterDataPreprocessor object.\"\"\"\n",
    "        self.file_path = file_path\n",
    "        self.data = None\n",
    "        \n",
    "    def load_data(self):\n",
    "        \"\"\"Load data.\"\"\"\n",
    "        self.data = pd.read_csv(self.file_path)\n",
    "        \n",
    "    def preprocess(self):\n",
    "        \"\"\"Preprocess the loaded data.\"\"\"\n",
    "        \n",
    "        pre_df = self.data.copy()\n",
    "        \n",
    "        column_names = [\"ID\", \"Game\", \"Label\", \"Text\"]\n",
    "        pre_df.columns = column_names\n",
    "\n",
    "        # Check for missing values in the \"Text\" column\n",
    "        pre_df[\"Text\"].fillna(\"Unknown\", inplace=True)\n",
    "\n",
    "        # Convert text to lowercase\n",
    "        pre_df[\"Lower_Text\"] = pre_df[\"Text\"].str.lower()\n",
    "\n",
    "        # Remove non-ASCII characters\n",
    "        pre_df[\"Remove_non_Ascii\"] = pre_df[\"Lower_Text\"].apply(lambda x: re.sub(r'[^\\x00-\\x7F]+', \" \", x))\n",
    "\n",
    "        # Remove whitespace\n",
    "        pre_df[\"Remove_Whitespace\"] = pre_df[\"Remove_non_Ascii\"].str.strip()\n",
    "\n",
    "        # Remove newlines\n",
    "        pre_df[\"Remove_n\"] = pre_df[\"Remove_Whitespace\"].apply(lambda x: re.sub(r\"\\n\\w*\", \" \", x))\n",
    "\n",
    "        # Remove emojis\n",
    "        pre_df[\"Remove_Emoji\"] = pre_df[\"Remove_n\"].apply(lambda x: x.encode(\"ascii\", \"ignore\").decode(\"ascii\"))\n",
    "\n",
    "        def remove_stopwords_nltk(text):\n",
    "            \"\"\"Remove stopwords using NLTK.\"\"\"\n",
    "            stopwords_nltk = set(stopwords.words(\"english\"))\n",
    "            tokens = word_tokenize(text)\n",
    "            return \" \".join([token for token in tokens if token not in stopwords_nltk])\n",
    "\n",
    "        pre_df[\"Remove_Stopwords_NLTK\"] = pre_df[\"Remove_Emoji\"].apply(remove_stopwords_nltk)\n",
    "\n",
    "        # Stemming and lemmatization on nltk\n",
    "        stemmer = PorterStemmer()\n",
    "        lemmatizer = WordNetLemmatizer()\n",
    "\n",
    "        def stemming_nltk(text):\n",
    "            \"\"\"Perform stemming using NLTK.\"\"\"\n",
    "            tokens = word_tokenize(text)\n",
    "            stemmed_tokens = [stemmer.stem(token) for token in tokens]\n",
    "            return \" \".join(stemmed_tokens)\n",
    "\n",
    "        def lemmatization_nltk(text):\n",
    "            \"\"\"Perform lemmatization using NLTK.\"\"\"\n",
    "            tokens = word_tokenize(text)\n",
    "            lemmatized_tokens = [lemmatizer.lemmatize(token) for token in tokens]\n",
    "            return \" \".join(lemmatized_tokens)\n",
    "        \n",
    "        def remove_non_alphabetic(text):\n",
    "            \"\"\"Remove non-alphabetic characters.\"\"\"\n",
    "            return \" \".join(re.findall(r\"\\b[a-zA-Z]+\\b\", text))\n",
    "\n",
    "        pre_df[\"Stemmed_Text_NLTK\"] = pre_df[\"Remove_Stopwords_NLTK\"].apply(stemming_nltk)\n",
    "        pre_df[\"Lemmatized_Text_NLTK\"] = pre_df[\"Remove_Stopwords_NLTK\"].apply(lemmatization_nltk)\n",
    "\n",
    "        # Remove numbers\n",
    "        pre_df[\"Remove_Numbers\"] = pre_df[\"Stemmed_Text_NLTK\"].apply(lambda x: re.sub(r\"\\d+\", \" \", x))\n",
    "\n",
    "        # Remove non-alphabetic characters\n",
    "        pre_df[\"Remove_non_Alphabetic\"] = pre_df[\"Remove_Numbers\"].apply(remove_non_alphabetic)\n",
    "        return pre_df\n",
    "\n",
    "    def save_preprocessed_data(self, output_file_path):\n",
    "        \"\"\"Save preprocessed data to a CSV file.\"\"\"\n",
    "        preprocessed_data = self.preprocess()\n",
    "        preprocessed_data.to_csv(output_file_path, index=False)\n",
    "        print(\"Preprocessed data saved.\")\n",
    "\n",
    "TWITTER_FILE_PATH = \"twitter_training.csv\"\n",
    "OUTPUT_FILE_PATH = \"twitter_data_preprocessed.csv\"\n",
    "\n",
    "preprocessor = TwitterDataPreprocessor(TWITTER_FILE_PATH)\n",
    "preprocessor.load_data()\n",
    "preprocessor.save_preprocessed_data(OUTPUT_FILE_PATH)"
   ]
  },
  {
   "cell_type": "markdown",
   "metadata": {},
   "source": [
    "# 4. Use NLTK/VADER, SpaCy/Textblob, and HuggingFace Sentiment Analysis\n",
    "\n",
    "* Make a function for NLTK/VADER to pass through your preprocessed dataset\n",
    "* Make a function to do the same with SpaCy/Textblob"
   ]
  },
  {
   "cell_type": "markdown",
   "metadata": {},
   "source": [
    "### NLTK/VADER sentiment analysis"
   ]
  },
  {
   "cell_type": "code",
   "execution_count": 24,
   "metadata": {},
   "outputs": [
    {
     "name": "stderr",
     "output_type": "stream",
     "text": [
      "[nltk_data] Downloading package vader_lexicon to\n",
      "[nltk_data]     /Users/yu/nltk_data...\n",
      "[nltk_data]   Package vader_lexicon is already up-to-date!\n"
     ]
    }
   ],
   "source": [
    "# Initialize VADER\n",
    "nltk.download(\"vader_lexicon\")\n",
    "sid = SentimentIntensityAnalyzer()\n",
    "\n",
    "def nltk_vader_analysis(text):\n",
    "    \"\"\"\n",
    "    Get sentiment scores using VADER.\n",
    "    \"\"\"\n",
    "    scores = sid.polarity_scores(text)\n",
    "    return scores\n",
    "\n",
    "pre_df[\"Sentiment_Scores_NLTK_VADER\"] = pre_df[\"Remove_non_Alphabetic\"].apply(nltk_vader_analysis)"
   ]
  },
  {
   "cell_type": "markdown",
   "metadata": {},
   "source": [
    "### SpaCy/Textblob sentiment analysis"
   ]
  },
  {
   "cell_type": "code",
   "execution_count": 25,
   "metadata": {},
   "outputs": [],
   "source": [
    "def spacy_textblob_analysis(data):\n",
    "    \"\"\"\n",
    "    Sentiment Analysis: Using SpaCy for tokenization and TextBlob for sentiment analysis.\n",
    "    \"\"\"\n",
    "    nlp = spacy.load(\"en_core_web_sm\")\n",
    "    \n",
    "    def tokenize(text):\n",
    "        \"\"\"\n",
    "        Tokenize text using SpaCy.\n",
    "        \"\"\"\n",
    "        doc = nlp(text)\n",
    "        tokens = [token.text for token in doc]\n",
    "        return tokens\n",
    "    \n",
    "    def get_sentiment_scores(text):\n",
    "        \"\"\"\n",
    "        Get sentiment scores using TextBlob.\n",
    "        \"\"\"\n",
    "        blob = TextBlob(text)\n",
    "        polarity = blob.sentiment.polarity\n",
    "        subjectivity = blob.sentiment.subjectivity\n",
    "        return {\"polarity\": polarity, \"subjectivity\": subjectivity}\n",
    "    \n",
    "    data[\"Sentiment_Scores_SpaCy_TextBlob\"] = data[\"Remove_non_Alphabetic\"].apply(get_sentiment_scores)\n",
    "    return data\n",
    "\n",
    "pre_df = spacy_textblob_analysis(pre_df)"
   ]
  },
  {
   "cell_type": "markdown",
   "metadata": {},
   "source": [
    "### HuggingFace sentiment analysis"
   ]
  },
  {
   "cell_type": "code",
   "execution_count": 26,
   "metadata": {},
   "outputs": [
    {
     "name": "stderr",
     "output_type": "stream",
     "text": [
      "No model was supplied, defaulted to distilbert-base-uncased-finetuned-sst-2-english and revision af0f99b (https://huggingface.co/distilbert-base-uncased-finetuned-sst-2-english).\n",
      "Using a pipeline without specifying a model name and revision in production is not recommended.\n"
     ]
    }
   ],
   "source": [
    "sentiment_analysis_pipeline = pipeline(\"sentiment-analysis\")\n",
    "\n",
    "def hugging_face_sentiment_analysis(text):\n",
    "    \"\"\"\n",
    "    Get sentiment scores using HugginFace\n",
    "    \"\"\"\n",
    "    results = sentiment_analysis_pipeline(text)\n",
    "    # print(results[0])\n",
    "    \n",
    "    # Extract sentiment label and score\n",
    "    sentiment_label = results[0][\"label\"]\n",
    "    sentiment_score = results[0][\"score\"]\n",
    "    \n",
    "    return {\"label\": sentiment_label, \"score\": sentiment_score}\n",
    "\n",
    "pre_df[\"Sentiment_Scores_Hugging_Face\"] = pre_df[\"Remove_non_Alphabetic\"].apply(hugging_face_sentiment_analysis)"
   ]
  },
  {
   "cell_type": "markdown",
   "metadata": {},
   "source": [
    "# 5. Run and show the results via visualizations (e.g. Confusion matrix / bar plots) comparing the results"
   ]
  },
  {
   "cell_type": "markdown",
   "metadata": {},
   "source": [
    "### Confusion Matrix"
   ]
  },
  {
   "cell_type": "code",
   "execution_count": 55,
   "metadata": {},
   "outputs": [],
   "source": [
    "nltk_scores = pre_df[\"Sentiment_Scores_NLTK_VADER\"]\n",
    "spacy_scores = pre_df[\"Sentiment_Scores_SpaCy_TextBlob\"]\n",
    "\n",
    "actual_sentiments = []\n",
    "nltk_sentiments = []\n",
    "spacy_sentiments = []\n",
    "hugging_face_sentiments = []"
   ]
  },
  {
   "cell_type": "code",
   "execution_count": 56,
   "metadata": {},
   "outputs": [],
   "source": [
    "for nltk_score, spacy_score in zip(nltk_scores, spacy_scores):\n",
    "    nltk_sentiment = \"Negative\" if -1 <= nltk_score[\"compound\"] < -0.05 else \"Neutral\" if -0.05 <= nltk_score[\"compound\"] < 0.05 else \"Positive\" if 0.05 <= nltk_score[\"compound\"] <= 1.0 else None\n",
    "    spacy_sentiment = \"Negative\" if spacy_score[\"polarity\"] < 0 else \"Neutral\" if spacy_score[\"polarity\"] == 0.0 else \"Positive\"\n",
    "\n",
    "    pre_df[\"Sentiment_Scores_NLTK_VADER\"] = nltk_sentiment\n",
    "    pre_df[\"Sentiment_Scores_SpaCy_TextBlob\"] = spacy_sentiment\n",
    "    \n",
    "    nltk_sentiments.append(nltk_sentiment)\n",
    "    spacy_sentiments.append(spacy_sentiment)"
   ]
  },
  {
   "cell_type": "code",
   "execution_count": 57,
   "metadata": {},
   "outputs": [],
   "source": [
    "for index, row in pre_df.iterrows():\n",
    "    hugging_face_sentiment = row[\"Sentiment_Scores_Hugging_Face\"][\"label\"]\n",
    "    hugging_face_sentiments.append((hugging_face_sentiment.capitalize()))"
   ]
  },
  {
   "cell_type": "code",
   "execution_count": 58,
   "metadata": {},
   "outputs": [],
   "source": [
    "for index, row in pre_df.iterrows():\n",
    "    actual_sentiment = row[\"Label\"]\n",
    "    actual_sentiments.append(actual_sentiment)"
   ]
  },
  {
   "cell_type": "code",
   "execution_count": 59,
   "metadata": {},
   "outputs": [
    {
     "name": "stdout",
     "output_type": "stream",
     "text": [
      "NLTK Confusion Matrix: [[11939  5071  5532]\n",
      " [ 5849  5062  7407]\n",
      " [ 3858  5062 11911]]\n",
      "\n",
      "SpaCy Confusion Matrix: [[ 9738  7875  4929]\n",
      " [ 4516  7175  6627]\n",
      " [ 3854  6846 10131]]\n",
      "\n",
      "Hugging Face Confusion Matrix: [[19809     0  2733]\n",
      " [13739     0  4579]\n",
      " [10532     0 10299]]\n",
      "\n"
     ]
    }
   ],
   "source": [
    "labels = [\"Negative\", \"Neutral\", \"Positive\"]\n",
    "nltk_confusion_matrix = confusion_matrix(actual_sentiments, nltk_sentiments, labels=labels)\n",
    "spacy_confusion_matrix = confusion_matrix(actual_sentiments, spacy_sentiments, labels=labels)\n",
    "hugging_face_confusion_matrix = confusion_matrix(actual_sentiments, hugging_face_sentiments, labels=labels)\n",
    "\n",
    "\n",
    "print(f\"NLTK Confusion Matrix: {nltk_confusion_matrix}\\n\")\n",
    "print(f\"SpaCy Confusion Matrix: {spacy_confusion_matrix}\\n\")\n",
    "print(f\"Hugging Face Confusion Matrix: {hugging_face_confusion_matrix}\\n\")"
   ]
  },
  {
   "cell_type": "markdown",
   "metadata": {},
   "source": [
    "### Visualization"
   ]
  },
  {
   "cell_type": "code",
   "execution_count": 61,
   "metadata": {},
   "outputs": [
    {
     "data": {
      "image/png": "[encoded data removed]",
      "text/plain": [
       "<Figure size 2000x900 with 6 Axes>"
      ]
     },
     "metadata": {},
     "output_type": "display_data"
    }
   ],
   "source": [
    "plt.figure(figsize=(20, 9))\n",
    "plt.subplot(1, 3, 1)\n",
    "sns.heatmap(nltk_confusion_matrix, annot=True, cmap=\"Greens\", fmt=\"d\", xticklabels=labels, yticklabels=labels)\n",
    "plt.title(\"NLTK Confusion Matrix\")\n",
    "\n",
    "plt.subplot(1, 3, 2)\n",
    "sns.heatmap(spacy_confusion_matrix, annot=True, cmap=\"Greens\", fmt=\"d\", xticklabels=labels, yticklabels=labels)\n",
    "plt.title(\"SpaCy Confusion Matrix\")\n",
    "\n",
    "plt.subplot(1, 3, 3)\n",
    "sns.heatmap(hugging_face_confusion_matrix, annot=True, cmap=\"Greens\", fmt=\"d\", xticklabels=labels, yticklabels=labels)\n",
    "plt.title(\"Hugging Face Confusion Matrix\")\n",
    "\n",
    "plt.tight_layout()\n",
    "plt.show()\n",
    "\n",
    "nltk_accuracy = np.trace(nltk_confusion_matrix) / np.sum(nltk_confusion_matrix)\n",
    "spacy_accuracy = np.trace(spacy_confusion_matrix) / np.sum(spacy_confusion_matrix)\n",
    "hugging_face_accuracy = np.trace(hugging_face_confusion_matrix) / np.sum(hugging_face_confusion_matrix)\n"
   ]
  }
 ],
 "metadata": {
  "kernelspec": {
   "display_name": "base",
   "language": "python",
   "name": "python3"
  },
  "language_info": {
   "codemirror_mode": {
    "name": "ipython",
    "version": 3
   },
   "file_extension": ".py",
   "mimetype": "text/x-python",
   "name": "python",
   "nbconvert_exporter": "python",
   "pygments_lexer": "ipython3",
   "version": "3.11.5"
  }
 },
 "nbformat": 4,
 "nbformat_minor": 2
}

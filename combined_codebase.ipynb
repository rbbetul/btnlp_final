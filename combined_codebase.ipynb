{
  "nbformat": 4,
  "nbformat_minor": 0,
  "metadata": {
    "colab": {
      "provenance": [],
      "collapsed_sections": [
        "y2C9J4ZpAnJz",
        "C-9FHheAU1UJ",
        "YJyrjljnUBqD",
        "f0yjbpkoUBqS",
        "eHtvHJKWUBqS",
        "119TCIIHUBqS"
      ]
    },
    "kernelspec": {
      "name": "python3",
      "display_name": "Python 3"
    },
    "language_info": {
      "name": "python"
    }
  },
  "cells": [
    {
      "cell_type": "markdown",
      "source": [
        "# Bahceci"
      ],
      "metadata": {
        "id": "y2C9J4ZpAnJz"
      }
    },
    {
      "cell_type": "code",
      "source": [
        "# Importing the necessary packages\n",
        "#!pip install demoji\n",
        "#!pip install transformers\n",
        "\n",
        "import ast\n",
        "import re\n",
        "import demoji\n",
        "import matplotlib.pyplot as plt\n",
        "import nltk\n",
        "import pandas as pd\n",
        "import spacy\n",
        "import textblob\n",
        "from nltk import word_tokenize\n",
        "from nltk.corpus import stopwords\n",
        "from nltk.sentiment.vader import SentimentIntensityAnalyzer\n",
        "from nltk.stem import PorterStemmer, WordNetLemmatizer\n",
        "from sklearn import metrics\n",
        "from sklearn.feature_extraction.text import CountVectorizer\n",
        "from transformers import pipeline\n",
        "\n",
        "nltk.download('vader_lexicon')\n",
        "nltk.download('wordnet')\n"
      ],
      "metadata": {
        "colab": {
          "base_uri": "https://localhost:8080/"
        },
        "id": "ZjeG8nLhxbxa",
        "outputId": "d59bf50c-6e9b-4304-c4b4-0fb76d638cb5"
      },
      "execution_count": null,
      "outputs": [
        {
          "output_type": "stream",
          "name": "stderr",
          "text": [
            "[nltk_data] Downloading package punkt to /root/nltk_data...\n",
            "[nltk_data]   Package punkt is already up-to-date!\n",
            "[nltk_data] Downloading package vader_lexicon to /root/nltk_data...\n",
            "[nltk_data]   Package vader_lexicon is already up-to-date!\n",
            "[nltk_data] Downloading package wordnet to /root/nltk_data...\n",
            "[nltk_data]   Package wordnet is already up-to-date!\n"
          ]
        }
      ]
    },
    {
      "cell_type": "markdown",
      "source": [
        "## 1. Text Preprocessing"
      ],
      "metadata": {
        "id": "IXEdyNBRzWzN"
      }
    },
    {
      "cell_type": "code",
      "source": [
        "\"\"\"\n",
        "Code for data cleaning.\n",
        "\"\"\"\n",
        "\n",
        "nlp = spacy.load(\"en_core_web_sm\")\n",
        "nltk.download('stopwords')\n",
        "stop_words = set(stopwords.words('english'))\n",
        "nltk.download('punkt')\n",
        "\n",
        "PATH = 'twitter_training.csv'\n",
        "\n",
        "twitter_df = pd.read_csv(PATH)\n",
        "\n",
        "# Run summary/descriptive statistics tests on the data\n",
        "# Rename the dataframe to pre_df\n",
        "pre_df = twitter_df.copy()\n",
        "print(\"Head of the dataframe:\")\n",
        "print(pre_df.head())\n",
        "print(\"\\nDescriptive statistics of the dataframe:\")\n",
        "print(pre_df.describe())\n",
        "\n",
        "pre_df.columns = [\"ID\", \"Game\", \"Sentiment\", \"Text\"]\n",
        "\n",
        "# Determine if there are missing values\n",
        "missing_values = pre_df.isnull().sum()\n",
        "print(\"\\nMissing values in the dataframe:\")\n",
        "print(missing_values)\n",
        "\n",
        "# Drop rows with missing 'Text' values\n",
        "pre_df.fillna(\"\", inplace=True)\n",
        "\n",
        "pre_df[\"ID\"] = pd.to_numeric(pre_df[\"ID\"], errors=\"coerce\")\n",
        "pre_df[\"ID\"] = pre_df[\"ID\"].fillna(0).astype(int)\n",
        "\n",
        "print(\"Dropped na rows.\")\n",
        "\n",
        "# Lowercase the entire text\n",
        "pre_df['Text'] = pre_df['Text'].str.lower()\n",
        "\n",
        "# Remove /n from the text\n",
        "pre_df['Text'] = pre_df['Text'].str.replace(r'\\n.*', '', regex=True)\n",
        "\n",
        "def remove_emojis(text):\n",
        "    \"\"\"\n",
        "    Remove emojis, of course the emojis may effect the analysis\n",
        "    as there are positive and negative emojis.\n",
        "    \"\"\"\n",
        "    return demoji.replace(text, '')\n",
        "\n",
        "pre_df['Text'] = pre_df['Text'].apply(remove_emojis)\n",
        "\n",
        "print(\"Removed emojis\")\n",
        "\n",
        "\n",
        "#Correcting the spelling errors can help us as we will\n",
        "#have more data that can be processed and\n",
        "#it can give us more meaningful results.\n",
        "\n",
        "\n",
        "# Remove all non-ASCII characters and fill with whitespace\n",
        "def remove_non_ascii(text):\n",
        "    \"\"\"\n",
        "    Function to remove non-ascii characters\n",
        "    \"\"\"\n",
        "    cleaned_text = \"\"\n",
        "    for char in text:\n",
        "        if ord(char) < 128:\n",
        "            cleaned_text += char\n",
        "        else:\n",
        "            cleaned_text += \" \"\n",
        "    return cleaned_text\n",
        "\n",
        "pre_df[\"Text\"] = pre_df[\"Text\"].apply(remove_non_ascii)\n",
        "\n",
        "pre_df[\"Text\"] = pre_df[\"Text\"].str.strip()\n",
        "\n",
        "print(pre_df)\n",
        "\n",
        "# Tokenize the text and add it as a new column\n",
        "\n",
        "pre_df['tokenized_text'] = pre_df['Text'].apply(nltk.word_tokenize)\n",
        "\n",
        "print(pre_df)\n",
        "\n",
        "print(\"tokenization done\")\n",
        "\n",
        "# Remove stopwords in the tokenized column\n",
        "\n",
        "def remove_stopwords_nltk(tokens):\n",
        "    \"\"\"\n",
        "    Remove stopwords nltk.\n",
        "    \"\"\"\n",
        "    filtered = [word for word in tokens if word.lower() not in stop_words]\n",
        "    return filtered\n",
        "\n",
        "def remove_stopwords_spacy(tokens):\n",
        "    \"\"\"\n",
        "    Remove stopwords spacy.\n",
        "    \"\"\"\n",
        "    stopwords_set = set(nlp.Defaults.stop_words)\n",
        "    filtered = [word for word in tokens if word.lower() not in stopwords_set]\n",
        "    return filtered\n",
        "\n",
        "\n",
        "pre_df['tokenized_text_nltk'] = pre_df['tokenized_text'].apply(\n",
        "    remove_stopwords_nltk)\n",
        "pre_df['tokenized_text_spacy'] = pre_df['tokenized_text'].apply(\n",
        "    remove_stopwords_spacy)\n",
        "\n",
        "print(pre_df)\n",
        "print(\"Removed stopwords.\")\n",
        "\n",
        "# Adding 4 columns for stem and lemmas. 2 for nltk stopword\n",
        "# removed column and 2 for plain tokenized column.\n",
        "\n",
        "lemmatizer = WordNetLemmatizer()\n",
        "porter = PorterStemmer()\n",
        "\n",
        "def lemmatize(tokens):\n",
        "    \"\"\"Lemmatizer\"\"\"\n",
        "    return [lemmatizer.lemmatize(token) for token in tokens]\n",
        "\n",
        "def stem(tokens):\n",
        "    \"\"\"Stemmer\"\"\"\n",
        "    return [porter.stem(token) for token in tokens]\n",
        "\n",
        "pre_df['lemmatized_text'] = pre_df['tokenized_text'].apply(lemmatize)\n",
        "pre_df['stemmed_text'] = pre_df['tokenized_text'].apply(stem)\n",
        "pre_df['lemmatized_text_nltk'] = pre_df['tokenized_text_nltk'].apply(lemmatize)\n",
        "pre_df['stemmed_text_nltk'] = pre_df['tokenized_text_nltk'].apply(stem)\n",
        "\n",
        "print(pre_df)\n",
        "print(\"Lemma and Stem columns added.\")\n",
        "\n",
        "def remove_numbers(tokens):\n",
        "    \"\"\"\n",
        "    Removing numbers.\n",
        "    \"\"\"\n",
        "\n",
        "    return [re.sub(r'\\d+', '', word) for word in tokens]\n",
        "\n",
        "pre_df['lemmatized_text_nltk'] = pre_df['lemmatized_text_nltk'].apply(\n",
        "    remove_numbers)\n",
        "print(pre_df)\n",
        "print(\"removed numbers\")\n",
        "\n",
        "#Find the non-alphabetic words.\n",
        "\n",
        "pattern = re.compile(r'[^a-zA-Z]+')\n",
        "\n",
        "def find_non_alphabetic_words(lst):\n",
        "    \"\"\"Function to find non alphabetic words.\"\"\"\n",
        "    non_alphabetic_words = []\n",
        "    for word in lst:\n",
        "        if pattern.match(word):\n",
        "            non_alphabetic_words.append(word)\n",
        "    return non_alphabetic_words\n",
        "\n",
        "pre_df['non_alphabetic_words'] = pre_df['lemmatized_text_nltk'].apply(\n",
        "    find_non_alphabetic_words)\n",
        "\n",
        "pre_df['lemmatized_text_nltk'] = pre_df['lemmatized_text_nltk'].apply(\" \".join)\n",
        "\n",
        "print(pre_df)\n",
        "print(\"Found the non-alphabetic words.\")\n",
        "\n",
        "\n",
        "#We see that we only have punctuation at the end.\n",
        "#After removing them we can only have meaningful part of the text.\n",
        "\n",
        "\n",
        "#pre_df.to_csv(\"twitter_output.csv\", index=False)\n",
        "\n",
        "print(\"the end\")\n"
      ],
      "metadata": {
        "colab": {
          "base_uri": "https://localhost:8080/"
        },
        "id": "CNLyI-H65-_o",
        "outputId": "be6ceb48-02b2-4ead-fecf-0f66703d434e"
      },
      "execution_count": null,
      "outputs": [
        {
          "output_type": "stream",
          "name": "stderr",
          "text": [
            "[nltk_data] Downloading package stopwords to /root/nltk_data...\n",
            "[nltk_data]   Unzipping corpora/stopwords.zip.\n",
            "[nltk_data] Downloading package punkt to /root/nltk_data...\n",
            "[nltk_data]   Package punkt is already up-to-date!\n"
          ]
        },
        {
          "output_type": "stream",
          "name": "stdout",
          "text": [
            "Head of the dataframe:\n",
            "   2401  Borderlands  Positive  \\\n",
            "0  2401  Borderlands  Positive   \n",
            "1  2401  Borderlands  Positive   \n",
            "2  2401  Borderlands  Positive   \n",
            "3  2401  Borderlands  Positive   \n",
            "4  2401  Borderlands  Positive   \n",
            "\n",
            "  im getting on borderlands and i will murder you all ,  \n",
            "0  I am coming to the borders and I will kill you...     \n",
            "1  im getting on borderlands and i will kill you ...     \n",
            "2  im coming on borderlands and i will murder you...     \n",
            "3  im getting on borderlands 2 and i will murder ...     \n",
            "4  im getting into borderlands and i can murder y...     \n",
            "\n",
            "Descriptive statistics of the dataframe:\n",
            "               2401\n",
            "count  74681.000000\n",
            "mean    6432.640149\n",
            "std     3740.423819\n",
            "min        1.000000\n",
            "25%     3195.000000\n",
            "50%     6422.000000\n",
            "75%     9601.000000\n",
            "max    13200.000000\n",
            "\n",
            "Missing values in the dataframe:\n",
            "ID             0\n",
            "Game           0\n",
            "Sentiment      0\n",
            "Text         686\n",
            "dtype: int64\n",
            "Dropped na rows.\n",
            "Removed emojis\n",
            "         ID         Game Sentiment  \\\n",
            "0      2401  Borderlands  Positive   \n",
            "1      2401  Borderlands  Positive   \n",
            "2      2401  Borderlands  Positive   \n",
            "3      2401  Borderlands  Positive   \n",
            "4      2401  Borderlands  Positive   \n",
            "...     ...          ...       ...   \n",
            "74676  9200       Nvidia  Positive   \n",
            "74677  9200       Nvidia  Positive   \n",
            "74678  9200       Nvidia  Positive   \n",
            "74679  9200       Nvidia  Positive   \n",
            "74680  9200       Nvidia  Positive   \n",
            "\n",
            "                                                    Text  \n",
            "0      i am coming to the borders and i will kill you...  \n",
            "1      im getting on borderlands and i will kill you ...  \n",
            "2      im coming on borderlands and i will murder you...  \n",
            "3      im getting on borderlands 2 and i will murder ...  \n",
            "4      im getting into borderlands and i can murder y...  \n",
            "...                                                  ...  \n",
            "74676  just realized that the windows partition of my...  \n",
            "74677  just realized that my mac window partition is ...  \n",
            "74678  just realized the windows partition of my mac ...  \n",
            "74679  just realized between the windows partition of...  \n",
            "74680  just like the windows partition of my mac is l...  \n",
            "\n",
            "[74681 rows x 4 columns]\n",
            "         ID         Game Sentiment  \\\n",
            "0      2401  Borderlands  Positive   \n",
            "1      2401  Borderlands  Positive   \n",
            "2      2401  Borderlands  Positive   \n",
            "3      2401  Borderlands  Positive   \n",
            "4      2401  Borderlands  Positive   \n",
            "...     ...          ...       ...   \n",
            "74676  9200       Nvidia  Positive   \n",
            "74677  9200       Nvidia  Positive   \n",
            "74678  9200       Nvidia  Positive   \n",
            "74679  9200       Nvidia  Positive   \n",
            "74680  9200       Nvidia  Positive   \n",
            "\n",
            "                                                    Text  \\\n",
            "0      i am coming to the borders and i will kill you...   \n",
            "1      im getting on borderlands and i will kill you ...   \n",
            "2      im coming on borderlands and i will murder you...   \n",
            "3      im getting on borderlands 2 and i will murder ...   \n",
            "4      im getting into borderlands and i can murder y...   \n",
            "...                                                  ...   \n",
            "74676  just realized that the windows partition of my...   \n",
            "74677  just realized that my mac window partition is ...   \n",
            "74678  just realized the windows partition of my mac ...   \n",
            "74679  just realized between the windows partition of...   \n",
            "74680  just like the windows partition of my mac is l...   \n",
            "\n",
            "                                          tokenized_text  \n",
            "0      [i, am, coming, to, the, borders, and, i, will...  \n",
            "1      [im, getting, on, borderlands, and, i, will, k...  \n",
            "2      [im, coming, on, borderlands, and, i, will, mu...  \n",
            "3      [im, getting, on, borderlands, 2, and, i, will...  \n",
            "4      [im, getting, into, borderlands, and, i, can, ...  \n",
            "...                                                  ...  \n",
            "74676  [just, realized, that, the, windows, partition...  \n",
            "74677  [just, realized, that, my, mac, window, partit...  \n",
            "74678  [just, realized, the, windows, partition, of, ...  \n",
            "74679  [just, realized, between, the, windows, partit...  \n",
            "74680  [just, like, the, windows, partition, of, my, ...  \n",
            "\n",
            "[74681 rows x 5 columns]\n",
            "tokenization done\n",
            "         ID         Game Sentiment  \\\n",
            "0      2401  Borderlands  Positive   \n",
            "1      2401  Borderlands  Positive   \n",
            "2      2401  Borderlands  Positive   \n",
            "3      2401  Borderlands  Positive   \n",
            "4      2401  Borderlands  Positive   \n",
            "...     ...          ...       ...   \n",
            "74676  9200       Nvidia  Positive   \n",
            "74677  9200       Nvidia  Positive   \n",
            "74678  9200       Nvidia  Positive   \n",
            "74679  9200       Nvidia  Positive   \n",
            "74680  9200       Nvidia  Positive   \n",
            "\n",
            "                                                    Text  \\\n",
            "0      i am coming to the borders and i will kill you...   \n",
            "1      im getting on borderlands and i will kill you ...   \n",
            "2      im coming on borderlands and i will murder you...   \n",
            "3      im getting on borderlands 2 and i will murder ...   \n",
            "4      im getting into borderlands and i can murder y...   \n",
            "...                                                  ...   \n",
            "74676  just realized that the windows partition of my...   \n",
            "74677  just realized that my mac window partition is ...   \n",
            "74678  just realized the windows partition of my mac ...   \n",
            "74679  just realized between the windows partition of...   \n",
            "74680  just like the windows partition of my mac is l...   \n",
            "\n",
            "                                          tokenized_text  \\\n",
            "0      [i, am, coming, to, the, borders, and, i, will...   \n",
            "1      [im, getting, on, borderlands, and, i, will, k...   \n",
            "2      [im, coming, on, borderlands, and, i, will, mu...   \n",
            "3      [im, getting, on, borderlands, 2, and, i, will...   \n",
            "4      [im, getting, into, borderlands, and, i, can, ...   \n",
            "...                                                  ...   \n",
            "74676  [just, realized, that, the, windows, partition...   \n",
            "74677  [just, realized, that, my, mac, window, partit...   \n",
            "74678  [just, realized, the, windows, partition, of, ...   \n",
            "74679  [just, realized, between, the, windows, partit...   \n",
            "74680  [just, like, the, windows, partition, of, my, ...   \n",
            "\n",
            "                                     tokenized_text_nltk  \\\n",
            "0                             [coming, borders, kill, ,]   \n",
            "1                    [im, getting, borderlands, kill, ,]   \n",
            "2                   [im, coming, borderlands, murder, ,]   \n",
            "3               [im, getting, borderlands, 2, murder, ,]   \n",
            "4                  [im, getting, borderlands, murder, ,]   \n",
            "...                                                  ...   \n",
            "74676  [realized, windows, partition, mac, like, 6, y...   \n",
            "74677  [realized, mac, window, partition, 6, years, b...   \n",
            "74678  [realized, windows, partition, mac, 6, years, ...   \n",
            "74679  [realized, windows, partition, mac, like, 6, y...   \n",
            "74680  [like, windows, partition, mac, like, 6, years...   \n",
            "\n",
            "                                    tokenized_text_spacy  \n",
            "0                             [coming, borders, kill, ,]  \n",
            "1                    [im, getting, borderlands, kill, ,]  \n",
            "2                   [im, coming, borderlands, murder, ,]  \n",
            "3               [im, getting, borderlands, 2, murder, ,]  \n",
            "4                  [im, getting, borderlands, murder, ,]  \n",
            "...                                                  ...  \n",
            "74676  [realized, windows, partition, mac, like, 6, y...  \n",
            "74677  [realized, mac, window, partition, 6, years, n...  \n",
            "74678  [realized, windows, partition, mac, 6, years, ...  \n",
            "74679  [realized, windows, partition, mac, like, 6, y...  \n",
            "74680  [like, windows, partition, mac, like, 6, years...  \n",
            "\n",
            "[74681 rows x 7 columns]\n",
            "Removed stopwords.\n",
            "         ID         Game Sentiment  \\\n",
            "0      2401  Borderlands  Positive   \n",
            "1      2401  Borderlands  Positive   \n",
            "2      2401  Borderlands  Positive   \n",
            "3      2401  Borderlands  Positive   \n",
            "4      2401  Borderlands  Positive   \n",
            "...     ...          ...       ...   \n",
            "74676  9200       Nvidia  Positive   \n",
            "74677  9200       Nvidia  Positive   \n",
            "74678  9200       Nvidia  Positive   \n",
            "74679  9200       Nvidia  Positive   \n",
            "74680  9200       Nvidia  Positive   \n",
            "\n",
            "                                                    Text  \\\n",
            "0      i am coming to the borders and i will kill you...   \n",
            "1      im getting on borderlands and i will kill you ...   \n",
            "2      im coming on borderlands and i will murder you...   \n",
            "3      im getting on borderlands 2 and i will murder ...   \n",
            "4      im getting into borderlands and i can murder y...   \n",
            "...                                                  ...   \n",
            "74676  just realized that the windows partition of my...   \n",
            "74677  just realized that my mac window partition is ...   \n",
            "74678  just realized the windows partition of my mac ...   \n",
            "74679  just realized between the windows partition of...   \n",
            "74680  just like the windows partition of my mac is l...   \n",
            "\n",
            "                                          tokenized_text  \\\n",
            "0      [i, am, coming, to, the, borders, and, i, will...   \n",
            "1      [im, getting, on, borderlands, and, i, will, k...   \n",
            "2      [im, coming, on, borderlands, and, i, will, mu...   \n",
            "3      [im, getting, on, borderlands, 2, and, i, will...   \n",
            "4      [im, getting, into, borderlands, and, i, can, ...   \n",
            "...                                                  ...   \n",
            "74676  [just, realized, that, the, windows, partition...   \n",
            "74677  [just, realized, that, my, mac, window, partit...   \n",
            "74678  [just, realized, the, windows, partition, of, ...   \n",
            "74679  [just, realized, between, the, windows, partit...   \n",
            "74680  [just, like, the, windows, partition, of, my, ...   \n",
            "\n",
            "                                     tokenized_text_nltk  \\\n",
            "0                             [coming, borders, kill, ,]   \n",
            "1                    [im, getting, borderlands, kill, ,]   \n",
            "2                   [im, coming, borderlands, murder, ,]   \n",
            "3               [im, getting, borderlands, 2, murder, ,]   \n",
            "4                  [im, getting, borderlands, murder, ,]   \n",
            "...                                                  ...   \n",
            "74676  [realized, windows, partition, mac, like, 6, y...   \n",
            "74677  [realized, mac, window, partition, 6, years, b...   \n",
            "74678  [realized, windows, partition, mac, 6, years, ...   \n",
            "74679  [realized, windows, partition, mac, like, 6, y...   \n",
            "74680  [like, windows, partition, mac, like, 6, years...   \n",
            "\n",
            "                                    tokenized_text_spacy  \\\n",
            "0                             [coming, borders, kill, ,]   \n",
            "1                    [im, getting, borderlands, kill, ,]   \n",
            "2                   [im, coming, borderlands, murder, ,]   \n",
            "3               [im, getting, borderlands, 2, murder, ,]   \n",
            "4                  [im, getting, borderlands, murder, ,]   \n",
            "...                                                  ...   \n",
            "74676  [realized, windows, partition, mac, like, 6, y...   \n",
            "74677  [realized, mac, window, partition, 6, years, n...   \n",
            "74678  [realized, windows, partition, mac, 6, years, ...   \n",
            "74679  [realized, windows, partition, mac, like, 6, y...   \n",
            "74680  [like, windows, partition, mac, like, 6, years...   \n",
            "\n",
            "                                         lemmatized_text  \\\n",
            "0      [i, am, coming, to, the, border, and, i, will,...   \n",
            "1      [im, getting, on, borderland, and, i, will, ki...   \n",
            "2      [im, coming, on, borderland, and, i, will, mur...   \n",
            "3      [im, getting, on, borderland, 2, and, i, will,...   \n",
            "4      [im, getting, into, borderland, and, i, can, m...   \n",
            "...                                                  ...   \n",
            "74676  [just, realized, that, the, window, partition,...   \n",
            "74677  [just, realized, that, my, mac, window, partit...   \n",
            "74678  [just, realized, the, window, partition, of, m...   \n",
            "74679  [just, realized, between, the, window, partiti...   \n",
            "74680  [just, like, the, window, partition, of, my, m...   \n",
            "\n",
            "                                            stemmed_text  \\\n",
            "0      [i, am, come, to, the, border, and, i, will, k...   \n",
            "1      [im, get, on, borderland, and, i, will, kill, ...   \n",
            "2      [im, come, on, borderland, and, i, will, murde...   \n",
            "3      [im, get, on, borderland, 2, and, i, will, mur...   \n",
            "4      [im, get, into, borderland, and, i, can, murde...   \n",
            "...                                                  ...   \n",
            "74676  [just, realiz, that, the, window, partit, of, ...   \n",
            "74677  [just, realiz, that, my, mac, window, partit, ...   \n",
            "74678  [just, realiz, the, window, partit, of, my, ma...   \n",
            "74679  [just, realiz, between, the, window, partit, o...   \n",
            "74680  [just, like, the, window, partit, of, my, mac,...   \n",
            "\n",
            "                                    lemmatized_text_nltk  \\\n",
            "0                              [coming, border, kill, ,]   \n",
            "1                     [im, getting, borderland, kill, ,]   \n",
            "2                    [im, coming, borderland, murder, ,]   \n",
            "3                [im, getting, borderland, 2, murder, ,]   \n",
            "4                   [im, getting, borderland, murder, ,]   \n",
            "...                                                  ...   \n",
            "74676  [realized, window, partition, mac, like, 6, ye...   \n",
            "74677  [realized, mac, window, partition, 6, year, be...   \n",
            "74678  [realized, window, partition, mac, 6, year, be...   \n",
            "74679  [realized, window, partition, mac, like, 6, ye...   \n",
            "74680  [like, window, partition, mac, like, 6, year, ...   \n",
            "\n",
            "                                       stemmed_text_nltk  \n",
            "0                                [come, border, kill, ,]  \n",
            "1                         [im, get, borderland, kill, ,]  \n",
            "2                      [im, come, borderland, murder, ,]  \n",
            "3                    [im, get, borderland, 2, murder, ,]  \n",
            "4                       [im, get, borderland, murder, ,]  \n",
            "...                                                  ...  \n",
            "74676  [realiz, window, partit, mac, like, 6, year, b...  \n",
            "74677  [realiz, mac, window, partit, 6, year, behind,...  \n",
            "74678  [realiz, window, partit, mac, 6, year, behind,...  \n",
            "74679  [realiz, window, partit, mac, like, 6, year, b...  \n",
            "74680  [like, window, partit, mac, like, 6, year, beh...  \n",
            "\n",
            "[74681 rows x 11 columns]\n",
            "Lemma and Stem columns added.\n",
            "         ID         Game Sentiment  \\\n",
            "0      2401  Borderlands  Positive   \n",
            "1      2401  Borderlands  Positive   \n",
            "2      2401  Borderlands  Positive   \n",
            "3      2401  Borderlands  Positive   \n",
            "4      2401  Borderlands  Positive   \n",
            "...     ...          ...       ...   \n",
            "74676  9200       Nvidia  Positive   \n",
            "74677  9200       Nvidia  Positive   \n",
            "74678  9200       Nvidia  Positive   \n",
            "74679  9200       Nvidia  Positive   \n",
            "74680  9200       Nvidia  Positive   \n",
            "\n",
            "                                                    Text  \\\n",
            "0      i am coming to the borders and i will kill you...   \n",
            "1      im getting on borderlands and i will kill you ...   \n",
            "2      im coming on borderlands and i will murder you...   \n",
            "3      im getting on borderlands 2 and i will murder ...   \n",
            "4      im getting into borderlands and i can murder y...   \n",
            "...                                                  ...   \n",
            "74676  just realized that the windows partition of my...   \n",
            "74677  just realized that my mac window partition is ...   \n",
            "74678  just realized the windows partition of my mac ...   \n",
            "74679  just realized between the windows partition of...   \n",
            "74680  just like the windows partition of my mac is l...   \n",
            "\n",
            "                                          tokenized_text  \\\n",
            "0      [i, am, coming, to, the, borders, and, i, will...   \n",
            "1      [im, getting, on, borderlands, and, i, will, k...   \n",
            "2      [im, coming, on, borderlands, and, i, will, mu...   \n",
            "3      [im, getting, on, borderlands, 2, and, i, will...   \n",
            "4      [im, getting, into, borderlands, and, i, can, ...   \n",
            "...                                                  ...   \n",
            "74676  [just, realized, that, the, windows, partition...   \n",
            "74677  [just, realized, that, my, mac, window, partit...   \n",
            "74678  [just, realized, the, windows, partition, of, ...   \n",
            "74679  [just, realized, between, the, windows, partit...   \n",
            "74680  [just, like, the, windows, partition, of, my, ...   \n",
            "\n",
            "                                     tokenized_text_nltk  \\\n",
            "0                             [coming, borders, kill, ,]   \n",
            "1                    [im, getting, borderlands, kill, ,]   \n",
            "2                   [im, coming, borderlands, murder, ,]   \n",
            "3               [im, getting, borderlands, 2, murder, ,]   \n",
            "4                  [im, getting, borderlands, murder, ,]   \n",
            "...                                                  ...   \n",
            "74676  [realized, windows, partition, mac, like, 6, y...   \n",
            "74677  [realized, mac, window, partition, 6, years, b...   \n",
            "74678  [realized, windows, partition, mac, 6, years, ...   \n",
            "74679  [realized, windows, partition, mac, like, 6, y...   \n",
            "74680  [like, windows, partition, mac, like, 6, years...   \n",
            "\n",
            "                                    tokenized_text_spacy  \\\n",
            "0                             [coming, borders, kill, ,]   \n",
            "1                    [im, getting, borderlands, kill, ,]   \n",
            "2                   [im, coming, borderlands, murder, ,]   \n",
            "3               [im, getting, borderlands, 2, murder, ,]   \n",
            "4                  [im, getting, borderlands, murder, ,]   \n",
            "...                                                  ...   \n",
            "74676  [realized, windows, partition, mac, like, 6, y...   \n",
            "74677  [realized, mac, window, partition, 6, years, n...   \n",
            "74678  [realized, windows, partition, mac, 6, years, ...   \n",
            "74679  [realized, windows, partition, mac, like, 6, y...   \n",
            "74680  [like, windows, partition, mac, like, 6, years...   \n",
            "\n",
            "                                         lemmatized_text  \\\n",
            "0      [i, am, coming, to, the, border, and, i, will,...   \n",
            "1      [im, getting, on, borderland, and, i, will, ki...   \n",
            "2      [im, coming, on, borderland, and, i, will, mur...   \n",
            "3      [im, getting, on, borderland, 2, and, i, will,...   \n",
            "4      [im, getting, into, borderland, and, i, can, m...   \n",
            "...                                                  ...   \n",
            "74676  [just, realized, that, the, window, partition,...   \n",
            "74677  [just, realized, that, my, mac, window, partit...   \n",
            "74678  [just, realized, the, window, partition, of, m...   \n",
            "74679  [just, realized, between, the, window, partiti...   \n",
            "74680  [just, like, the, window, partition, of, my, m...   \n",
            "\n",
            "                                            stemmed_text  \\\n",
            "0      [i, am, come, to, the, border, and, i, will, k...   \n",
            "1      [im, get, on, borderland, and, i, will, kill, ...   \n",
            "2      [im, come, on, borderland, and, i, will, murde...   \n",
            "3      [im, get, on, borderland, 2, and, i, will, mur...   \n",
            "4      [im, get, into, borderland, and, i, can, murde...   \n",
            "...                                                  ...   \n",
            "74676  [just, realiz, that, the, window, partit, of, ...   \n",
            "74677  [just, realiz, that, my, mac, window, partit, ...   \n",
            "74678  [just, realiz, the, window, partit, of, my, ma...   \n",
            "74679  [just, realiz, between, the, window, partit, o...   \n",
            "74680  [just, like, the, window, partit, of, my, mac,...   \n",
            "\n",
            "                                    lemmatized_text_nltk  \\\n",
            "0                              [coming, border, kill, ,]   \n",
            "1                     [im, getting, borderland, kill, ,]   \n",
            "2                    [im, coming, borderland, murder, ,]   \n",
            "3                 [im, getting, borderland, , murder, ,]   \n",
            "4                   [im, getting, borderland, murder, ,]   \n",
            "...                                                  ...   \n",
            "74676  [realized, window, partition, mac, like, , yea...   \n",
            "74677  [realized, mac, window, partition, , year, beh...   \n",
            "74678  [realized, window, partition, mac, , year, beh...   \n",
            "74679  [realized, window, partition, mac, like, , yea...   \n",
            "74680  [like, window, partition, mac, like, , year, b...   \n",
            "\n",
            "                                       stemmed_text_nltk  \n",
            "0                                [come, border, kill, ,]  \n",
            "1                         [im, get, borderland, kill, ,]  \n",
            "2                      [im, come, borderland, murder, ,]  \n",
            "3                    [im, get, borderland, 2, murder, ,]  \n",
            "4                       [im, get, borderland, murder, ,]  \n",
            "...                                                  ...  \n",
            "74676  [realiz, window, partit, mac, like, 6, year, b...  \n",
            "74677  [realiz, mac, window, partit, 6, year, behind,...  \n",
            "74678  [realiz, window, partit, mac, 6, year, behind,...  \n",
            "74679  [realiz, window, partit, mac, like, 6, year, b...  \n",
            "74680  [like, window, partit, mac, like, 6, year, beh...  \n",
            "\n",
            "[74681 rows x 11 columns]\n",
            "removed numbers\n",
            "         ID         Game Sentiment  \\\n",
            "0      2401  Borderlands  Positive   \n",
            "1      2401  Borderlands  Positive   \n",
            "2      2401  Borderlands  Positive   \n",
            "3      2401  Borderlands  Positive   \n",
            "4      2401  Borderlands  Positive   \n",
            "...     ...          ...       ...   \n",
            "74676  9200       Nvidia  Positive   \n",
            "74677  9200       Nvidia  Positive   \n",
            "74678  9200       Nvidia  Positive   \n",
            "74679  9200       Nvidia  Positive   \n",
            "74680  9200       Nvidia  Positive   \n",
            "\n",
            "                                                    Text  \\\n",
            "0      i am coming to the borders and i will kill you...   \n",
            "1      im getting on borderlands and i will kill you ...   \n",
            "2      im coming on borderlands and i will murder you...   \n",
            "3      im getting on borderlands 2 and i will murder ...   \n",
            "4      im getting into borderlands and i can murder y...   \n",
            "...                                                  ...   \n",
            "74676  just realized that the windows partition of my...   \n",
            "74677  just realized that my mac window partition is ...   \n",
            "74678  just realized the windows partition of my mac ...   \n",
            "74679  just realized between the windows partition of...   \n",
            "74680  just like the windows partition of my mac is l...   \n",
            "\n",
            "                                          tokenized_text  \\\n",
            "0      [i, am, coming, to, the, borders, and, i, will...   \n",
            "1      [im, getting, on, borderlands, and, i, will, k...   \n",
            "2      [im, coming, on, borderlands, and, i, will, mu...   \n",
            "3      [im, getting, on, borderlands, 2, and, i, will...   \n",
            "4      [im, getting, into, borderlands, and, i, can, ...   \n",
            "...                                                  ...   \n",
            "74676  [just, realized, that, the, windows, partition...   \n",
            "74677  [just, realized, that, my, mac, window, partit...   \n",
            "74678  [just, realized, the, windows, partition, of, ...   \n",
            "74679  [just, realized, between, the, windows, partit...   \n",
            "74680  [just, like, the, windows, partition, of, my, ...   \n",
            "\n",
            "                                     tokenized_text_nltk  \\\n",
            "0                             [coming, borders, kill, ,]   \n",
            "1                    [im, getting, borderlands, kill, ,]   \n",
            "2                   [im, coming, borderlands, murder, ,]   \n",
            "3               [im, getting, borderlands, 2, murder, ,]   \n",
            "4                  [im, getting, borderlands, murder, ,]   \n",
            "...                                                  ...   \n",
            "74676  [realized, windows, partition, mac, like, 6, y...   \n",
            "74677  [realized, mac, window, partition, 6, years, b...   \n",
            "74678  [realized, windows, partition, mac, 6, years, ...   \n",
            "74679  [realized, windows, partition, mac, like, 6, y...   \n",
            "74680  [like, windows, partition, mac, like, 6, years...   \n",
            "\n",
            "                                    tokenized_text_spacy  \\\n",
            "0                             [coming, borders, kill, ,]   \n",
            "1                    [im, getting, borderlands, kill, ,]   \n",
            "2                   [im, coming, borderlands, murder, ,]   \n",
            "3               [im, getting, borderlands, 2, murder, ,]   \n",
            "4                  [im, getting, borderlands, murder, ,]   \n",
            "...                                                  ...   \n",
            "74676  [realized, windows, partition, mac, like, 6, y...   \n",
            "74677  [realized, mac, window, partition, 6, years, n...   \n",
            "74678  [realized, windows, partition, mac, 6, years, ...   \n",
            "74679  [realized, windows, partition, mac, like, 6, y...   \n",
            "74680  [like, windows, partition, mac, like, 6, years...   \n",
            "\n",
            "                                         lemmatized_text  \\\n",
            "0      [i, am, coming, to, the, border, and, i, will,...   \n",
            "1      [im, getting, on, borderland, and, i, will, ki...   \n",
            "2      [im, coming, on, borderland, and, i, will, mur...   \n",
            "3      [im, getting, on, borderland, 2, and, i, will,...   \n",
            "4      [im, getting, into, borderland, and, i, can, m...   \n",
            "...                                                  ...   \n",
            "74676  [just, realized, that, the, window, partition,...   \n",
            "74677  [just, realized, that, my, mac, window, partit...   \n",
            "74678  [just, realized, the, window, partition, of, m...   \n",
            "74679  [just, realized, between, the, window, partiti...   \n",
            "74680  [just, like, the, window, partition, of, my, m...   \n",
            "\n",
            "                                            stemmed_text  \\\n",
            "0      [i, am, come, to, the, border, and, i, will, k...   \n",
            "1      [im, get, on, borderland, and, i, will, kill, ...   \n",
            "2      [im, come, on, borderland, and, i, will, murde...   \n",
            "3      [im, get, on, borderland, 2, and, i, will, mur...   \n",
            "4      [im, get, into, borderland, and, i, can, murde...   \n",
            "...                                                  ...   \n",
            "74676  [just, realiz, that, the, window, partit, of, ...   \n",
            "74677  [just, realiz, that, my, mac, window, partit, ...   \n",
            "74678  [just, realiz, the, window, partit, of, my, ma...   \n",
            "74679  [just, realiz, between, the, window, partit, o...   \n",
            "74680  [just, like, the, window, partit, of, my, mac,...   \n",
            "\n",
            "                                    lemmatized_text_nltk  \\\n",
            "0                                   coming border kill ,   \n",
            "1                           im getting borderland kill ,   \n",
            "2                          im coming borderland murder ,   \n",
            "3                        im getting borderland  murder ,   \n",
            "4                         im getting borderland murder ,   \n",
            "...                                                  ...   \n",
            "74676  realized window partition mac like  year behin...   \n",
            "74677  realized mac window partition  year behind nvi...   \n",
            "74678  realized window partition mac  year behind nvi...   \n",
            "74679  realized window partition mac like  year behin...   \n",
            "74680  like window partition mac like  year behind dr...   \n",
            "\n",
            "                                       stemmed_text_nltk non_alphabetic_words  \n",
            "0                                [come, border, kill, ,]                  [,]  \n",
            "1                         [im, get, borderland, kill, ,]                  [,]  \n",
            "2                      [im, come, borderland, murder, ,]                  [,]  \n",
            "3                    [im, get, borderland, 2, murder, ,]                  [,]  \n",
            "4                       [im, get, borderland, murder, ,]                  [,]  \n",
            "...                                                  ...                  ...  \n",
            "74676  [realiz, window, partit, mac, like, 6, year, b...                   []  \n",
            "74677  [realiz, mac, window, partit, 6, year, behind,...                   []  \n",
            "74678  [realiz, window, partit, mac, 6, year, behind,...                   []  \n",
            "74679  [realiz, window, partit, mac, like, 6, year, b...                   []  \n",
            "74680  [like, window, partit, mac, like, 6, year, beh...                   []  \n",
            "\n",
            "[74681 rows x 12 columns]\n",
            "Found the non-alphabetic words.\n",
            "the end\n"
          ]
        }
      ]
    },
    {
      "cell_type": "code",
      "source": [
        "class DataCleaner:\n",
        "    def __init__(self, file_path):\n",
        "        if isinstance(file_path, str):\n",
        "            self.file_path = file_path\n",
        "        else:\n",
        "            raise ValueError(\"Input needs to be a string.\")\n",
        "\n",
        "    def read_data(self):\n",
        "        self.data = pd.read_csv(self.file_path)\n",
        "\n",
        "        return self.data\n",
        "\n",
        "    def remove_non_ascii(self, text):\n",
        "        \"\"\"Removing non-ascii chars.\"\"\"\n",
        "        cleaned_text = \"\"\n",
        "        for char in text:\n",
        "            if ord(char) < 128:\n",
        "                cleaned_text += char\n",
        "            else:\n",
        "                cleaned_text += \" \"\n",
        "        return cleaned_text\n",
        "\n",
        "    def clean_data(self):\n",
        "        \"\"\"Cleaning the data\"\"\"\n",
        "\n",
        "        # Rename the dataframe to pre_df\n",
        "        pre_df = self.data.copy()\n",
        "\n",
        "        pre_df.columns = [\"ID\", \"Game\", \"Sentiment\", \"Text\"]\n",
        "\n",
        "        # Determine if there are missing values\n",
        "        missing_values = pre_df.isnull().sum()\n",
        "\n",
        "        # Drop rows with missing 'Text' values\n",
        "        pre_df.fillna(\"\", inplace=True)\n",
        "        pre_df[\"ID\"] = pd.to_numeric(pre_df[\"ID\"], errors=\"coerce\")\n",
        "        pre_df[\"ID\"] = pre_df[\"ID\"].fillna(0).astype(int)\n",
        "\n",
        "        # Lowercase the entire text\n",
        "        pre_df[\"Text\"] = pre_df[\"Text\"].str.lower()\n",
        "\n",
        "        pre_df[\"Text\"] = pre_df[\"Text\"].str.strip()\n",
        "        pre_df[\"Words\"] = pre_df[\"Text\"].apply(lambda x: word_tokenize(x))\n",
        "\n",
        "        pre_df[\"Text\"] = pre_df[\"Text\"].apply(self.remove_non_ascii)\n",
        "        pre_df[\"Text\"] = pre_df[\"Text\"].str.strip()\n",
        "\n",
        "        self.data = pre_df\n",
        "\n",
        "        return self.data\n",
        "\n",
        "\n",
        "    def features(self):\n",
        "        \"\"\"Getting the features\"\"\"\n",
        "        vectorizer = CountVectorizer()\n",
        "        X = vectorizer.fit_transform(self.data['Text'])\n",
        "\n",
        "        self.data['Text_length'] = self.data['Text'].apply(len)\n",
        "        print(self.data)\n",
        "\n",
        "    def plot_text_length(self):\n",
        "        \"\"\"Plotting text length.\"\"\"\n",
        "        plt.hist(self.data['Text_length'], bins=20)\n",
        "        plt.xlabel('Text Length')\n",
        "        plt.ylabel('Frequency')\n",
        "        plt.title('Distribution of Text Lengths')\n",
        "        plt.show()\n",
        "\n",
        "    def tokenizer(self):\n",
        "        \"\"\"Tokenization\"\"\"\n",
        "        self.data['tokenized_text'] = self.data['Text'].apply(\n",
        "            nltk.word_tokenize)\n",
        "        self.data['tokenized_text'] = self.data['tokenized_text'].apply(\n",
        "            ' '.join)\n",
        "        print(self.data)\n",
        "\n",
        "    def lemmatize(self):\n",
        "        \"\"\"Lemmatizer\"\"\"\n",
        "        self.data['lemmatized_text'] = self.data['tokenized_text'].apply(\n",
        "            lemmatizer.lemmatize)\n",
        "        self.data['lemmatized_text'] = self.data['lemmatized_text'].apply(\n",
        "            ' '.join)\n",
        "\n",
        "    def stem(self):\n",
        "        \"\"\"Stemmer\"\"\"\n",
        "        self.data['stemmed_text'] = self.data['lemmatized_text'].apply(\n",
        "            porter.stem)\n",
        "        self.data['stemmed_text'] = self.data['stemmed_text'].apply(' '.join)"
      ],
      "metadata": {
        "id": "2sRUslb_x1DW"
      },
      "execution_count": null,
      "outputs": []
    },
    {
      "cell_type": "markdown",
      "metadata": {
        "id": "YwBGi-jJbvJj"
      },
      "source": [
        "## 2. Use NLTK/VADER,Textblob and Huggingface for Sentiment Analysis"
      ]
    },
    {
      "cell_type": "code",
      "source": [
        "def score_to_sentiment(score):\n",
        "    \"\"\"\n",
        "    Convert scores to sentiments.\n",
        "    \"\"\"\n",
        "    if score < -0.05:\n",
        "        return \"Negative\"\n",
        "    elif score > 0.05:\n",
        "        return \"Positive\"\n",
        "    else:\n",
        "        return \"Neutral\""
      ],
      "metadata": {
        "id": "nOObRAzii0DA"
      },
      "execution_count": null,
      "outputs": []
    },
    {
      "cell_type": "code",
      "source": [
        "sia = SentimentIntensityAnalyzer()\n",
        "\n",
        "\n",
        "def sentiment_nltk(text):\n",
        "    \"\"\"\n",
        "    Apply sentiment analysis using nltk.\n",
        "    \"\"\"\n",
        "    sentiment = sia.polarity_scores(text)\n",
        "    return sentiment[\"compound\"]\n",
        "\n",
        "pre_df[\"sentiment_nltk\"] = pre_df[\"lemmatized_text_nltk\"].apply(sentiment_nltk)\n",
        "pre_df[\"sentiment_nltk_word\"] = pre_df[\"sentiment_nltk\"].apply(\n",
        "    score_to_sentiment)"
      ],
      "metadata": {
        "id": "r6C5qhs8in1f"
      },
      "execution_count": null,
      "outputs": []
    },
    {
      "cell_type": "code",
      "source": [
        "def sentiment_textblob(text):\n",
        "    \"\"\"\n",
        "    Apply sentiment analysis using TextBlob.\n",
        "    \"\"\"\n",
        "    blob = textblob.TextBlob(text)  # Create a TextBlob object\n",
        "    sentiment_score = blob.sentiment.polarity  # Get the polarity score\n",
        "    return sentiment_score\n",
        "\n",
        "pre_df[\"sentiment_textblob\"] = pre_df[\"lemmatized_text_nltk\"].apply(\n",
        "    sentiment_textblob)\n",
        "pre_df[\"sentiment_textblob_word\"] = pre_df[\"sentiment_textblob\"].apply(\n",
        "    score_to_sentiment)"
      ],
      "metadata": {
        "id": "-TkcjjPIiiVL"
      },
      "execution_count": null,
      "outputs": []
    },
    {
      "cell_type": "code",
      "source": [
        "# This takes more than 30 min to run, I ran it on my laptop.\n",
        "huggingface_analyzer = pipeline(\"sentiment-analysis\")\n",
        "def sentiment_huggingface(text):\n",
        "    \"\"\"\n",
        "    Apply sentiment analysis using Huggingface.\n",
        "    \"\"\"\n",
        "    sentiment_score = huggingface_analyzer(text)  # Get the polarity score\n",
        "    return sentiment_score[0][\"label\"]\n",
        "\n",
        "pre_df[\"sentiment_huggingf\"] = pre_df[\"lemmatized_text_nltk\"].swifter.apply(\n",
        "    sentiment_huggingface)\n",
        "pre_df[\"sentiment_huggingf_word\"] = pre_df[\"sentiment_huggingf\"].str.title()"
      ],
      "metadata": {
        "colab": {
          "base_uri": "https://localhost:8080/"
        },
        "id": "-0L3SmAz22tK",
        "outputId": "335d2330-1ef7-4f7c-b17d-dcd8f50559f5"
      },
      "execution_count": null,
      "outputs": [
        {
          "output_type": "stream",
          "name": "stderr",
          "text": [
            "No model was supplied, defaulted to distilbert/distilbert-base-uncased-finetuned-sst-2-english and revision af0f99b (https://huggingface.co/distilbert/distilbert-base-uncased-finetuned-sst-2-english).\n",
            "Using a pipeline without specifying a model name and revision in production is not recommended.\n"
          ]
        }
      ]
    },
    {
      "cell_type": "code",
      "source": [
        "print(pre_df)"
      ],
      "metadata": {
        "id": "sri9GXUdivmq"
      },
      "execution_count": null,
      "outputs": []
    },
    {
      "cell_type": "code",
      "execution_count": null,
      "metadata": {
        "id": "6BWSk6zbbvJj",
        "colab": {
          "base_uri": "https://localhost:8080/",
          "height": 471
        },
        "outputId": "4c4df303-ec86-47a1-ac5d-9927951035ea"
      },
      "outputs": [
        {
          "output_type": "display_data",
          "data": {
            "text/plain": [
              "<Figure size 1200x600 with 4 Axes>"
            ],
            "image/png": "[encoded data removed]"
          },
          "metadata": {}
        }
      ],
      "source": [
        "#pre_df.to_csv((PATH / \"combined_version.csv\"), index=False)\n",
        "\n",
        "# Drop \"Irrelevant\" labels for comparison\n",
        "new_df = pre_df[pre_df[\"Sentiment\"] != \"Irrelevant\"]\n",
        "\n",
        "# Visualize the two prediction models with a confusion matrix\n",
        "confusion_matrix1 = metrics.confusion_matrix(new_df[\"Sentiment\"],\n",
        "                                             new_df[\"sentiment_textblob_word\"])\n",
        "confusion_matrix2 = metrics.confusion_matrix(new_df[\"Sentiment\"],\n",
        "                                             new_df[\"sentiment_nltk_word\"])\n",
        "\n",
        "labels = [\"Negative\", \"Neutral\", \"Positive\"]\n",
        "\n",
        "cm_display1 = metrics.ConfusionMatrixDisplay(confusion_matrix=confusion_matrix1,\n",
        "                                             display_labels=labels)\n",
        "cm_display2 = metrics.ConfusionMatrixDisplay(confusion_matrix=confusion_matrix2,\n",
        "                                             display_labels=labels)\n",
        "\n",
        "fig, axes = plt.subplots(1, 2, figsize=(12, 6))\n",
        "\n",
        "cm_display1.plot(ax=axes[0])\n",
        "axes[0].set_title(\"Sentiment Analysis with Textblob\")\n",
        "\n",
        "cm_display2.plot(ax=axes[1])\n",
        "axes[1].set_title(\"Sentiment Analysis with NLTK/VADER\")\n",
        "\n",
        "plt.tight_layout()\n",
        "plt.show()\n"
      ]
    },
    {
      "cell_type": "code",
      "source": [
        "# Confusion Matrix with Huggingface\n",
        "\n",
        "confusion_matrix3 = metrics.confusion_matrix(new_df[\"Sentiment\"],\n",
        "                                             new_df[\"sentiment_huggingf_word\"])\n",
        "\n",
        "cm_display3 = metrics.ConfusionMatrixDisplay(confusion_matrix=confusion_matrix3,\n",
        "                                             display_labels=labels)\n",
        "\n",
        "cm_display3.plot(cmap=plt.cm.Blues, values_format='')\n",
        "\n",
        "plt.title('Sentiment Analysis with Huggingface')\n",
        "plt.xlabel('Predicted Label')\n",
        "plt.ylabel('True Label')\n",
        "\n",
        "plt.show()"
      ],
      "metadata": {
        "id": "MiDrURcj3pp1"
      },
      "execution_count": null,
      "outputs": []
    },
    {
      "cell_type": "code",
      "source": [
        "# Running Pylint on this file.\n",
        "#!pylint application_final_rbb.py\n"
      ],
      "metadata": {
        "colab": {
          "base_uri": "https://localhost:8080/"
        },
        "id": "PCqMYKNxEshR",
        "outputId": "5316141a-8cda-4f62-9f42-9fe0794ac6e0"
      },
      "execution_count": null,
      "outputs": [
        {
          "output_type": "stream",
          "name": "stdout",
          "text": [
            "************* Module application_final_rbb\n",
            "application_final_rbb.py:403:0: C0304: Final newline missing (missing-final-newline)\n",
            "application_final_rbb.py:41:0: W0105: String statement has no effect (pointless-string-statement)\n",
            "application_final_rbb.py:216:0: C0115: Missing class docstring (missing-class-docstring)\n",
            "application_final_rbb.py:223:4: C0116: Missing function or method docstring (missing-function-docstring)\n",
            "application_final_rbb.py:242:8: W0621: Redefining name 'pre_df' from outer scope (line 56) (redefined-outer-name)\n",
            "application_final_rbb.py:247:8: W0621: Redefining name 'missing_values' from outer scope (line 65) (redefined-outer-name)\n",
            "application_final_rbb.py:258:47: W0108: Lambda may not be necessary (unnecessary-lambda)\n",
            "application_final_rbb.py:247:8: W0612: Unused variable 'missing_values' (unused-variable)\n",
            "application_final_rbb.py:271:8: C0103: Variable name \"X\" doesn't conform to snake_case naming style (invalid-name)\n",
            "application_final_rbb.py:271:8: W0612: Unused variable 'X' (unused-variable)\n",
            "application_final_rbb.py:224:8: W0201: Attribute 'data' defined outside __init__ (attribute-defined-outside-init)\n",
            "application_final_rbb.py:263:8: W0201: Attribute 'data' defined outside __init__ (attribute-defined-outside-init)\n",
            "application_final_rbb.py:305:0: W0105: String statement has no effect (pointless-string-statement)\n",
            "application_final_rbb.py:311:4: R1705: Unnecessary \"elif\" after \"return\", remove the leading \"el\" from \"elif\" (no-else-return)\n",
            "application_final_rbb.py:396:0: E1123: Unexpected keyword argument 'title' in method call (unexpected-keyword-arg)\n",
            "application_final_rbb.py:16:0: W0611: Unused import ast (unused-import)\n",
            "application_final_rbb.py:18:0: W0611: Unused Path imported from pathlib (unused-import)\n",
            "\n",
            "------------------------------------------------------------------\n",
            "Your code has been rated at 8.91/10 (previous run: 7.01/10, +1.91)\n",
            "\n"
          ]
        }
      ]
    },
    {
      "cell_type": "markdown",
      "source": [
        "#Chen"
      ],
      "metadata": {
        "id": "C-9FHheAU1UJ"
      }
    },
    {
      "cell_type": "code",
      "execution_count": null,
      "metadata": {
        "id": "JlH4dFxUUBqC"
      },
      "outputs": [],
      "source": [
        "import pandas as pd\n",
        "import re\n",
        "import nltk\n",
        "import matplotlib.pyplot as plt\n",
        "import spacy\n",
        "import seaborn as sns\n",
        "import numpy as np\n",
        "from nltk.corpus import stopwords\n",
        "from spacy.lang.en import STOP_WORDS as stopwords_spacy\n",
        "from sklearn.feature_extraction.text import ENGLISH_STOP_WORDS as stopwords_sklearn\n",
        "from nltk.tokenize import word_tokenize\n",
        "from nltk.stem import PorterStemmer, WordNetLemmatizer\n",
        "from nltk.sentiment.vader import SentimentIntensityAnalyzer\n",
        "from textblob import TextBlob\n",
        "from sklearn.metrics import confusion_matrix\n",
        "from transformers import pipeline\n",
        "from textblob import TextBlob"
      ]
    },
    {
      "cell_type": "markdown",
      "metadata": {
        "id": "YJyrjljnUBqD"
      },
      "source": [
        "# 1. Preprocess Twitter Dataset\n",
        "\n",
        "* Preliminary Data Cleaning\n",
        "* Advanced Data Cleaning"
      ]
    },
    {
      "cell_type": "markdown",
      "metadata": {
        "id": "-71zGgbDUBqE"
      },
      "source": [
        "### Read in the twitter_training.csv"
      ]
    },
    {
      "cell_type": "code",
      "execution_count": null,
      "metadata": {
        "id": "UfH9TGQuUBqE"
      },
      "outputs": [],
      "source": [
        "# Read in the twitter_training.csv\n",
        "TWITTER_FILE_PATH = \"twitter_training.csv\"\n",
        "twitter_data = pd.read_csv(TWITTER_FILE_PATH)"
      ]
    },
    {
      "cell_type": "markdown",
      "metadata": {
        "id": "CP9jA164UBqE"
      },
      "source": [
        "### Run summary/descriptive statistics tests on the data (e.g. head, describe, etc)"
      ]
    },
    {
      "cell_type": "code",
      "execution_count": null,
      "metadata": {
        "id": "GDzTALgUUBqF",
        "outputId": "b9091cc6-76f6-4eda-de22-d40b75be3094"
      },
      "outputs": [
        {
          "name": "stdout",
          "output_type": "stream",
          "text": [
            "Twitter Data Length: 74681\n",
            "\n",
            "   2401  Borderlands  Positive  \\\n",
            "0  2401  Borderlands  Positive   \n",
            "1  2401  Borderlands  Positive   \n",
            "2  2401  Borderlands  Positive   \n",
            "3  2401  Borderlands  Positive   \n",
            "4  2401  Borderlands  Positive   \n",
            "\n",
            "  im getting on borderlands and i will murder you all ,  \n",
            "0  I am coming to the borders and I will kill you...     \n",
            "1  im getting on borderlands and i will kill you ...     \n",
            "2  im coming on borderlands and i will murder you...     \n",
            "3  im getting on borderlands 2 and i will murder ...     \n",
            "4  im getting into borderlands and i can murder y...     \n",
            "\n",
            "               2401\n",
            "count  74681.000000\n",
            "mean    6432.640149\n",
            "std     3740.423819\n",
            "min        1.000000\n",
            "25%     3195.000000\n",
            "50%     6422.000000\n",
            "75%     9601.000000\n",
            "max    13200.000000\n"
          ]
        }
      ],
      "source": [
        "twitter_data_length = len(twitter_data)\n",
        "\n",
        "print(f\"Twitter Data Length: {twitter_data_length}\\n\")\n",
        "print(twitter_data.head())\n",
        "print(\"\")\n",
        "print(twitter_data.describe())"
      ]
    },
    {
      "cell_type": "markdown",
      "metadata": {
        "id": "sUdMmvpmUBqF"
      },
      "source": [
        "### Rename this dataframe to pre_df"
      ]
    },
    {
      "cell_type": "code",
      "execution_count": null,
      "metadata": {
        "id": "n5Ff-KSiUBqF"
      },
      "outputs": [],
      "source": [
        "pre_df = twitter_data.copy()"
      ]
    },
    {
      "cell_type": "code",
      "execution_count": null,
      "metadata": {
        "id": "nx23KHJEUBqF"
      },
      "outputs": [],
      "source": [
        "# Add a row on the top of the dataframe to represent column names of each column\n",
        "column_names = [\"ID\", \"Game\", \"Label\", \"Text\"]\n",
        "pre_df.columns = column_names"
      ]
    },
    {
      "cell_type": "code",
      "execution_count": null,
      "metadata": {
        "id": "5vxci8RAUBqF",
        "outputId": "e5439b87-27d8-4ce4-8a25-f913f1b51df0"
      },
      "outputs": [
        {
          "data": {
            "text/plain": [
              "array(['Positive', 'Neutral', 'Negative', 'Irrelevant'], dtype=object)"
            ]
          },
          "execution_count": 6,
          "metadata": {},
          "output_type": "execute_result"
        }
      ],
      "source": [
        "pre_df[\"Label\"].unique()"
      ]
    },
    {
      "cell_type": "markdown",
      "metadata": {
        "id": "VKJpXxqmUBqG"
      },
      "source": [
        "## Data Visualization"
      ]
    },
    {
      "cell_type": "code",
      "execution_count": null,
      "metadata": {
        "id": "1DzjL75VUBqG",
        "outputId": "07daf1aa-ae52-4ae9-fee7-c2d44367634a"
      },
      "outputs": [
        {
          "data": {
            "image/png": "[encoded data removed]",
            "text/plain": [
              "<Figure size 800x600 with 1 Axes>"
            ]
          },
          "metadata": {},
          "output_type": "display_data"
        }
      ],
      "source": [
        "label_counts = pre_df[\"Label\"].value_counts()\n",
        "\n",
        "plt.figure(figsize=(8, 6))\n",
        "label_counts.plot(kind=\"bar\")\n",
        "plt.title(\"Distribution of Labels\")\n",
        "plt.xlabel(\"Labels\")\n",
        "plt.ylabel(\"Count\")\n",
        "# plt.xticks(rotation=45)\n",
        "plt.tight_layout()\n",
        "\n",
        "plt.show()"
      ]
    },
    {
      "cell_type": "markdown",
      "metadata": {
        "id": "AAG5qvT1UBqG"
      },
      "source": [
        "## 1.1 Preliminary Data Cleaning"
      ]
    },
    {
      "cell_type": "markdown",
      "metadata": {
        "id": "YGW85J_pUBqG"
      },
      "source": [
        "### Complete several text transoformations:\n",
        "\n",
        "* Determine if there are missing values\n",
        "* Determine what to fill these missing values with"
      ]
    },
    {
      "cell_type": "code",
      "execution_count": null,
      "metadata": {
        "id": "1Nb9NtiiUBqG",
        "outputId": "366ea649-b938-4433-b4f8-87694ddc38e5"
      },
      "outputs": [
        {
          "name": "stdout",
          "output_type": "stream",
          "text": [
            "Missing Text Rows:\n",
            "          ID                       Game       Label Text\n",
            "2291   1602  CallOfDutyBlackopsColdWar  Irrelevant     \n",
            "2993   1719  CallOfDutyBlackopsColdWar    Positive     \n",
            "3239   1763  CallOfDutyBlackopsColdWar     Neutral     \n",
            "3935   1880  CallOfDutyBlackopsColdWar    Negative     \n",
            "4229   1929  CallOfDutyBlackopsColdWar    Negative     \n",
            "...     ...                        ...         ...  ...\n",
            "73229  8945                     Nvidia    Positive     \n",
            "73517  8993                     Nvidia     Neutral     \n",
            "73757  9036                     Nvidia    Negative     \n",
            "73967  9073                     Nvidia    Positive     \n",
            "74417  9154                     Nvidia    Positive     \n",
            "\n",
            "[172 rows x 4 columns]\n",
            "NaN Rows:\n",
            "          ID         Game     Label Text\n",
            "60     2411  Borderlands   Neutral  NaN\n",
            "552    2496  Borderlands   Neutral  NaN\n",
            "588    2503  Borderlands   Neutral  NaN\n",
            "744    2532  Borderlands  Positive  NaN\n",
            "1104   2595  Borderlands  Positive  NaN\n",
            "...     ...          ...       ...  ...\n",
            "73971  9073       Nvidia  Positive  NaN\n",
            "73972  9073       Nvidia  Positive  NaN\n",
            "74420  9154       Nvidia  Positive  NaN\n",
            "74421  9154       Nvidia  Positive  NaN\n",
            "74422  9154       Nvidia  Positive  NaN\n",
            "\n",
            "[686 rows x 4 columns]\n"
          ]
        }
      ],
      "source": [
        "# Check for missing values in the \"Text\" column\n",
        "missing_text_rows = pre_df[pre_df[\"Text\"] == \" \"]\n",
        "\n",
        "print(f\"Missing Text Rows:\\n {missing_text_rows}\")\n",
        "\n",
        "# Check for NaN in the \"Text\" column\n",
        "nan_rows = pre_df[pre_df[\"Text\"].isna()]\n",
        "\n",
        "print(f\"NaN Rows:\\n {nan_rows}\")"
      ]
    },
    {
      "cell_type": "code",
      "execution_count": null,
      "metadata": {
        "id": "FDF6OpHTUBqG"
      },
      "outputs": [],
      "source": [
        "# Fill missing values with \"Unknown\" in the \"Text\" column\n",
        "pre_df.loc[missing_text_rows.index, \"Text\"] = \"Unknown\"\n",
        "pre_df.loc[nan_rows.index, \"Text\"] = \"Unknown\""
      ]
    },
    {
      "cell_type": "markdown",
      "metadata": {
        "id": "OZA3OPbQUBqG"
      },
      "source": [
        "### Change/verify relevant column data types"
      ]
    },
    {
      "cell_type": "code",
      "execution_count": null,
      "metadata": {
        "id": "XPwy9U1PUBqG",
        "outputId": "3686b323-bf5d-4ac5-e5d1-a858f1c50386"
      },
      "outputs": [
        {
          "name": "stdout",
          "output_type": "stream",
          "text": [
            "ID        int64\n",
            "Game     object\n",
            "Label    object\n",
            "Text     object\n",
            "dtype: object\n"
          ]
        }
      ],
      "source": [
        "# Check the data types of the columns\n",
        "column_datatypes = pre_df.dtypes\n",
        "\n",
        "print(column_datatypes)"
      ]
    },
    {
      "cell_type": "markdown",
      "metadata": {
        "id": "pqEjVcOEUBqG"
      },
      "source": [
        "### Lowercase"
      ]
    },
    {
      "cell_type": "code",
      "execution_count": null,
      "metadata": {
        "id": "rb4eu9jWUBqH"
      },
      "outputs": [],
      "source": [
        "# Lower case\n",
        "pre_df[\"Lower_Text\"] = pre_df[\"Text\"].str.lower()"
      ]
    },
    {
      "cell_type": "markdown",
      "metadata": {
        "id": "sZS8OylkUBqH"
      },
      "source": [
        "### Remove non-ASCII characters and fill with whitespace"
      ]
    },
    {
      "cell_type": "code",
      "execution_count": null,
      "metadata": {
        "id": "g72DUq3cUBqH"
      },
      "outputs": [],
      "source": [
        "# Remove all non-ASCII characters and fill with whitespace\n",
        "pre_df[\"Remove_non_Ascii\"] = pre_df[\"Lower_Text\"].apply(lambda x: re.sub(r'[^\\x00-\\x7F]+', \" \", x))"
      ]
    },
    {
      "cell_type": "markdown",
      "metadata": {
        "id": "ZfUgO2rSUBqH"
      },
      "source": [
        "### Remove additional whitespace (stripping)"
      ]
    },
    {
      "cell_type": "code",
      "execution_count": null,
      "metadata": {
        "id": "fBzbPoJRUBqH"
      },
      "outputs": [],
      "source": [
        "# Remove additional whitespace (stripping)\n",
        "pre_df[\"Remove_Whitespace\"] = pre_df[\"Remove_non_Ascii\"].str.strip()"
      ]
    },
    {
      "cell_type": "markdown",
      "metadata": {
        "id": "gBqp3foPUBqH"
      },
      "source": [
        "### Split the string info into a list of strings that are each one word (tokenization)"
      ]
    },
    {
      "cell_type": "code",
      "execution_count": null,
      "metadata": {
        "id": "N8hfQfT-UBqH"
      },
      "outputs": [],
      "source": [
        "pre_df[\"Tokenized_Text\"] = pre_df[\"Remove_Whitespace\"].apply(word_tokenize)"
      ]
    },
    {
      "cell_type": "markdown",
      "metadata": {
        "id": "Ij23iJCkUBqH"
      },
      "source": [
        "## 1.2 Advanced Data Cleaning"
      ]
    },
    {
      "cell_type": "markdown",
      "metadata": {
        "id": "ryjHt9w3UBqH"
      },
      "source": [
        "### Remove \"\\n\" and other symbols followed by letters"
      ]
    },
    {
      "cell_type": "code",
      "execution_count": null,
      "metadata": {
        "id": "xpHYCsJdUBqH"
      },
      "outputs": [],
      "source": [
        "# Remove \"\\n\" and other symbols followed by letters\n",
        "pre_df[\"Remove_n\"] = pre_df[\"Remove_Whitespace\"].apply(lambda x: re.sub(r\"\\n\\w*\", \" \", x))"
      ]
    },
    {
      "cell_type": "markdown",
      "metadata": {
        "id": "qMY9mxOEUBqH"
      },
      "source": [
        "### Remove emojis and emoticons\n",
        "\n",
        "Handling emojis and emoticons:\n",
        "\n",
        "During sentiment analysis, the model only considers textual content. Elements like emojis and emoticons aren't important for the task, thus can be omitted.\n",
        "\n",
        "However, if we aim to retain the impact of emojis and emoticons, there's a possibility to convert them into numerical values."
      ]
    },
    {
      "cell_type": "code",
      "execution_count": null,
      "metadata": {
        "id": "3npH-wrLUBqH"
      },
      "outputs": [],
      "source": [
        "pre_df[\"Remove_Emoji\"] = pre_df[\"Remove_n\"].apply(lambda x: x.encode(\"ascii\", \"ignore\").decode(\"ascii\"))"
      ]
    },
    {
      "cell_type": "markdown",
      "metadata": {
        "id": "wpNFnT2zUBqI"
      },
      "source": [
        "### Fix Spelling Error\n",
        "\n",
        "Handling spelling errors:\n",
        "\n",
        "Spelling mistakes can introduce noise in sentiment analysis tasks. One approach is to simply ignore the errors. Alternatively, we can employ libraries such as PySpellChecker or TextBlob to solve spelling issues."
      ]
    },
    {
      "cell_type": "code",
      "execution_count": null,
      "metadata": {
        "id": "12pFS_2cUBqI"
      },
      "outputs": [],
      "source": [
        "def correct_spelling(text):\n",
        "    \"\"\"Correct the spelling of the given text using TextBlob.\"\"\"\n",
        "    blob = TextBlob(text)\n",
        "    return str(blob.correct())\n",
        "\n",
        "pre_df[\"Fixed_Spelling\"] = pre_df[\"Remove_Emoji\"].apply(correct_spelling)\n",
        "\n",
        "pre_df"
      ]
    },
    {
      "cell_type": "markdown",
      "metadata": {
        "id": "mJnipM-KUBqI"
      },
      "source": [
        "### ***The execution took too long***"
      ]
    },
    {
      "cell_type": "markdown",
      "metadata": {
        "id": "fciNFiN1UBqI"
      },
      "source": [
        "### Remove stopwords"
      ]
    },
    {
      "cell_type": "code",
      "execution_count": null,
      "metadata": {
        "id": "lwGwqI1xUBqI",
        "outputId": "c4877787-960d-4638-fc60-a20318861607"
      },
      "outputs": [
        {
          "name": "stderr",
          "output_type": "stream",
          "text": [
            "[nltk_data] Downloading package stopwords to /Users/yu/nltk_data...\n",
            "[nltk_data]   Package stopwords is already up-to-date!\n"
          ]
        }
      ],
      "source": [
        "nltk.download(\"stopwords\")\n",
        "\n",
        "def remove_stopwords_nltk(text):\n",
        "    \"\"\"Remove stopwords from the given text using NLTK.\"\"\"\n",
        "    stopwords_nltk = set(stopwords.words(\"english\"))\n",
        "    tokens = word_tokenize(text)\n",
        "    return \" \".join([token for token in tokens if token not in stopwords_nltk])\n",
        "\n",
        "def remove_stopwords_spacy(text):\n",
        "    \"\"\"Remove stopwords from the given text using SpaCy.\"\"\"\n",
        "    tokens = word_tokenize(text)\n",
        "    return \" \".join([token for token in tokens if token not in stopwords_spacy])\n",
        "\n",
        "def remove_stopwords_textblob(text):\n",
        "    \"\"\"Remove stopwords from the given text using TextBlob.\"\"\"\n",
        "    tokens = word_tokenize(text)\n",
        "    stopwords_textblob = set(stopwords.words(\"english\"))\n",
        "    return \" \".join([token for token in tokens if token not in stopwords_textblob])\n",
        "\n",
        "def remove_stopwords_sklearn(text):\n",
        "    \"\"\"Remove stopwords from the given text using Scikit-learn.\"\"\"\n",
        "    tokens = word_tokenize(text)\n",
        "    return \" \".join([token for token in tokens if token not in stopwords_sklearn])"
      ]
    },
    {
      "cell_type": "code",
      "execution_count": null,
      "metadata": {
        "id": "QBF5GwrFUBqI"
      },
      "outputs": [],
      "source": [
        "pre_df[\"Remove_Stopwords_NLTK\"] = pre_df[\"Remove_Emoji\"].apply(remove_stopwords_nltk)\n",
        "pre_df[\"Remove_Stopwords_SpaCy\"] = pre_df[\"Remove_Emoji\"].apply(remove_stopwords_spacy)\n",
        "pre_df[\"Remove_Stopwords_Textblob\"] = pre_df[\"Remove_Emoji\"].apply(remove_stopwords_textblob)\n",
        "pre_df[\"Remove_Stopwords_Sklearn\"] = pre_df[\"Remove_Emoji\"].apply(remove_stopwords_sklearn)"
      ]
    },
    {
      "cell_type": "markdown",
      "metadata": {
        "id": "3pVAYgZtUBqJ"
      },
      "source": [
        "### Stemming and Lemmatization (on NLTK)\n",
        "\n",
        "In my opinion, stemming is preferable to lemmatization. Instead of reducing words to their base form, stemming only removes suffixes from the root, which can preserve more information and also may be faster in computation."
      ]
    },
    {
      "cell_type": "code",
      "execution_count": null,
      "metadata": {
        "id": "l4ZSNonNUBqJ"
      },
      "outputs": [],
      "source": [
        "stemmer = PorterStemmer()\n",
        "lemmatizer = WordNetLemmatizer()\n",
        "\n",
        "# Stemming and lemmatization on ntlk\n",
        "def stemming_nltk(text):\n",
        "    \"\"\"Perform stemming using NLTK.\"\"\"\n",
        "    tokens = word_tokenize(text)\n",
        "    stemmed_tokens = [stemmer.stem(token) for token in tokens]\n",
        "    return \" \".join(stemmed_tokens)\n",
        "\n",
        "def lemmatization_nltk(text):\n",
        "    \"\"\"Perform lemmatization using NLTK.\"\"\"\n",
        "    tokens = word_tokenize(text)\n",
        "    lemmatized_tokens = [lemmatizer.lemmatize(token) for token in tokens]\n",
        "    return \" \".join(lemmatized_tokens)"
      ]
    },
    {
      "cell_type": "code",
      "execution_count": null,
      "metadata": {
        "id": "vH9E50_iUBqR"
      },
      "outputs": [],
      "source": [
        "pre_df[\"Stemmed_Text_NLTK\"] = pre_df[\"Remove_Stopwords_NLTK\"].apply(stemming_nltk)\n",
        "pre_df[\"Lemmatized_Text_NLTK\"] = pre_df[\"Remove_Stopwords_NLTK\"].apply(lemmatization_nltk)"
      ]
    },
    {
      "cell_type": "markdown",
      "metadata": {
        "id": "L6Sie3NuUBqR"
      },
      "source": [
        "### Remove numbers\n",
        "\n",
        "Whether or not to remove numbers depends on their role in the dataset. In Twitter datasets, numbers often represent user IDs, timestamps, email addresses, and more. However, such numerical data isn't important to sentiment analysis. Therefore, removing numbers is a viable option."
      ]
    },
    {
      "cell_type": "code",
      "execution_count": null,
      "metadata": {
        "id": "mB7UzKU1UBqR"
      },
      "outputs": [],
      "source": [
        "pre_df[\"Remove_Numbers\"] = pre_df[\"Stemmed_Text_NLTK\"].apply(lambda x: re.sub(r\"\\d+\", \" \", x))"
      ]
    },
    {
      "cell_type": "markdown",
      "metadata": {
        "id": "glXaqgEYUBqR"
      },
      "source": [
        "### Remove non alphabetic words\n",
        "\n",
        "non_alphabetic words in the data: [`.`, `@`, `&`, `/`, `(`, `)`, `<`, `>`, `!`, `?`, `+`, `%`, `*`, `_`, `[`, `]`, `$`, `-`, `:`, `~`, `\"`]"
      ]
    },
    {
      "cell_type": "code",
      "execution_count": null,
      "metadata": {
        "id": "qafg3rDIUBqR"
      },
      "outputs": [],
      "source": [
        "def remove_non_alphabetic(text):\n",
        "    \"\"\"Remove non-alphabetic characters from the given text.\"\"\"\n",
        "    return \" \".join(re.findall(r\"\\b[a-zA-Z]+\\b\", text))\n",
        "\n",
        "pre_df[\"Remove_non_Alphabetic\"] = pre_df[\"Remove_Numbers\"].apply(remove_non_alphabetic)"
      ]
    },
    {
      "cell_type": "markdown",
      "metadata": {
        "id": "i2B6JOiSUBqR"
      },
      "source": [
        "### Create an output of this dataset as a csv file"
      ]
    },
    {
      "cell_type": "code",
      "execution_count": null,
      "metadata": {
        "id": "FOqS2AktUBqR"
      },
      "outputs": [],
      "source": [
        "OUTPUT_FILE_PATH = \"/Users/yu/Desktop/uds_ws2324/tools_for_nlp/assignment/final_project/twitter_data_preprocessed.csv\"\n",
        "pre_df.to_csv(OUTPUT_FILE_PATH, index=False)"
      ]
    },
    {
      "cell_type": "code",
      "source": [],
      "metadata": {
        "id": "_QSEvy4tU4Xs"
      },
      "execution_count": null,
      "outputs": []
    },
    {
      "cell_type": "markdown",
      "metadata": {
        "id": "f0yjbpkoUBqS"
      },
      "source": [
        "# 2. Create a functioning class that packages all the items"
      ]
    },
    {
      "cell_type": "code",
      "execution_count": null,
      "metadata": {
        "id": "MMC8GINpUBqS",
        "outputId": "d559f847-3577-43f4-b7f6-3b92765f3fcd"
      },
      "outputs": [
        {
          "name": "stdout",
          "output_type": "stream",
          "text": [
            "Preprocessed data saved.\n"
          ]
        }
      ],
      "source": [
        "class TwitterDataPreprocessor:\n",
        "    \"\"\"A class for preprocessing Twitter data\"\"\"\n",
        "\n",
        "    def __init__(self, file_path):\n",
        "        \"\"\"Initialize the TwitterDataPreprocessor object.\"\"\"\n",
        "        self.file_path = file_path\n",
        "        self.data = None\n",
        "\n",
        "    def load_data(self):\n",
        "        \"\"\"Load data.\"\"\"\n",
        "        self.data = pd.read_csv(self.file_path)\n",
        "\n",
        "    def preprocess(self):\n",
        "        \"\"\"Preprocess the loaded data.\"\"\"\n",
        "\n",
        "        pre_df = self.data.copy()\n",
        "\n",
        "        column_names = [\"ID\", \"Game\", \"Label\", \"Text\"]\n",
        "        pre_df.columns = column_names\n",
        "\n",
        "        # Check for missing values in the \"Text\" column\n",
        "        pre_df[\"Text\"].fillna(\"Unknown\", inplace=True)\n",
        "\n",
        "        # Convert text to lowercase\n",
        "        pre_df[\"Lower_Text\"] = pre_df[\"Text\"].str.lower()\n",
        "\n",
        "        # Remove non-ASCII characters\n",
        "        pre_df[\"Remove_non_Ascii\"] = pre_df[\"Lower_Text\"].apply(lambda x: re.sub(r'[^\\x00-\\x7F]+', \" \", x))\n",
        "\n",
        "        # Remove whitespace\n",
        "        pre_df[\"Remove_Whitespace\"] = pre_df[\"Remove_non_Ascii\"].str.strip()\n",
        "\n",
        "        # Remove newlines\n",
        "        pre_df[\"Remove_n\"] = pre_df[\"Remove_Whitespace\"].apply(lambda x: re.sub(r\"\\n\\w*\", \" \", x))\n",
        "\n",
        "        # Remove emojis\n",
        "        pre_df[\"Remove_Emoji\"] = pre_df[\"Remove_n\"].apply(lambda x: x.encode(\"ascii\", \"ignore\").decode(\"ascii\"))\n",
        "\n",
        "        def remove_stopwords_nltk(text):\n",
        "            \"\"\"Remove stopwords using NLTK.\"\"\"\n",
        "            stopwords_nltk = set(stopwords.words(\"english\"))\n",
        "            tokens = word_tokenize(text)\n",
        "            return \" \".join([token for token in tokens if token not in stopwords_nltk])\n",
        "\n",
        "        pre_df[\"Remove_Stopwords_NLTK\"] = pre_df[\"Remove_Emoji\"].apply(remove_stopwords_nltk)\n",
        "\n",
        "        # Stemming and lemmatization on nltk\n",
        "        stemmer = PorterStemmer()\n",
        "        lemmatizer = WordNetLemmatizer()\n",
        "\n",
        "        def stemming_nltk(text):\n",
        "            \"\"\"Perform stemming using NLTK.\"\"\"\n",
        "            tokens = word_tokenize(text)\n",
        "            stemmed_tokens = [stemmer.stem(token) for token in tokens]\n",
        "            return \" \".join(stemmed_tokens)\n",
        "\n",
        "        def lemmatization_nltk(text):\n",
        "            \"\"\"Perform lemmatization using NLTK.\"\"\"\n",
        "            tokens = word_tokenize(text)\n",
        "            lemmatized_tokens = [lemmatizer.lemmatize(token) for token in tokens]\n",
        "            return \" \".join(lemmatized_tokens)\n",
        "\n",
        "        def remove_non_alphabetic(text):\n",
        "            \"\"\"Remove non-alphabetic characters.\"\"\"\n",
        "            return \" \".join(re.findall(r\"\\b[a-zA-Z]+\\b\", text))\n",
        "\n",
        "        pre_df[\"Stemmed_Text_NLTK\"] = pre_df[\"Remove_Stopwords_NLTK\"].apply(stemming_nltk)\n",
        "        pre_df[\"Lemmatized_Text_NLTK\"] = pre_df[\"Remove_Stopwords_NLTK\"].apply(lemmatization_nltk)\n",
        "\n",
        "        # Remove numbers\n",
        "        pre_df[\"Remove_Numbers\"] = pre_df[\"Stemmed_Text_NLTK\"].apply(lambda x: re.sub(r\"\\d+\", \" \", x))\n",
        "\n",
        "        # Remove non-alphabetic characters\n",
        "        pre_df[\"Remove_non_Alphabetic\"] = pre_df[\"Remove_Numbers\"].apply(remove_non_alphabetic)\n",
        "        return pre_df\n",
        "\n",
        "    def save_preprocessed_data(self, output_file_path):\n",
        "        \"\"\"Save preprocessed data to a CSV file.\"\"\"\n",
        "        preprocessed_data = self.preprocess()\n",
        "        preprocessed_data.to_csv(output_file_path, index=False)\n",
        "        print(\"Preprocessed data saved.\")\n",
        "\n",
        "TWITTER_FILE_PATH = \"twitter_training.csv\"\n",
        "OUTPUT_FILE_PATH = \"twitter_data_preprocessed.csv\"\n",
        "\n",
        "preprocessor = TwitterDataPreprocessor(TWITTER_FILE_PATH)\n",
        "preprocessor.load_data()\n",
        "preprocessor.save_preprocessed_data(OUTPUT_FILE_PATH)"
      ]
    },
    {
      "cell_type": "markdown",
      "metadata": {
        "id": "eHtvHJKWUBqS"
      },
      "source": [
        "# 4. Use NLTK/VADER, SpaCy/Textblob, and HuggingFace Sentiment Analysis\n",
        "\n",
        "* Make a function for NLTK/VADER to pass through your preprocessed dataset\n",
        "* Make a function to do the same with SpaCy/Textblob"
      ]
    },
    {
      "cell_type": "markdown",
      "metadata": {
        "id": "UhIWohawUBqS"
      },
      "source": [
        "### NLTK/VADER sentiment analysis"
      ]
    },
    {
      "cell_type": "code",
      "execution_count": null,
      "metadata": {
        "id": "LCgSRKLtUBqS",
        "outputId": "7928e3d7-40ae-49d8-89a1-41a81c4f0fdd"
      },
      "outputs": [
        {
          "name": "stderr",
          "output_type": "stream",
          "text": [
            "[nltk_data] Downloading package vader_lexicon to\n",
            "[nltk_data]     /Users/yu/nltk_data...\n",
            "[nltk_data]   Package vader_lexicon is already up-to-date!\n"
          ]
        }
      ],
      "source": [
        "# Initialize VADER\n",
        "nltk.download(\"vader_lexicon\")\n",
        "sid = SentimentIntensityAnalyzer()\n",
        "\n",
        "def nltk_vader_analysis(text):\n",
        "    \"\"\"\n",
        "    Get sentiment scores using VADER.\n",
        "    \"\"\"\n",
        "    scores = sid.polarity_scores(text)\n",
        "    return scores\n",
        "\n",
        "pre_df[\"Sentiment_Scores_NLTK_VADER\"] = pre_df[\"Remove_non_Alphabetic\"].apply(nltk_vader_analysis)"
      ]
    },
    {
      "cell_type": "markdown",
      "metadata": {
        "id": "jcZbIwuvUBqS"
      },
      "source": [
        "### SpaCy/Textblob sentiment analysis"
      ]
    },
    {
      "cell_type": "code",
      "execution_count": null,
      "metadata": {
        "id": "6HDUYPotUBqS"
      },
      "outputs": [],
      "source": [
        "def spacy_textblob_analysis(data):\n",
        "    \"\"\"\n",
        "    Sentiment Analysis: Using SpaCy for tokenization and TextBlob for sentiment analysis.\n",
        "    \"\"\"\n",
        "    nlp = spacy.load(\"en_core_web_sm\")\n",
        "\n",
        "    def tokenize(text):\n",
        "        \"\"\"\n",
        "        Tokenize text using SpaCy.\n",
        "        \"\"\"\n",
        "        doc = nlp(text)\n",
        "        tokens = [token.text for token in doc]\n",
        "        return tokens\n",
        "\n",
        "    def get_sentiment_scores(text):\n",
        "        \"\"\"\n",
        "        Get sentiment scores using TextBlob.\n",
        "        \"\"\"\n",
        "        blob = TextBlob(text)\n",
        "        polarity = blob.sentiment.polarity\n",
        "        subjectivity = blob.sentiment.subjectivity\n",
        "        return {\"polarity\": polarity, \"subjectivity\": subjectivity}\n",
        "\n",
        "    data[\"Sentiment_Scores_SpaCy_TextBlob\"] = data[\"Remove_non_Alphabetic\"].apply(get_sentiment_scores)\n",
        "    return data\n",
        "\n",
        "pre_df = spacy_textblob_analysis(pre_df)"
      ]
    },
    {
      "cell_type": "markdown",
      "metadata": {
        "id": "yenjpiFLUBqS"
      },
      "source": [
        "### HuggingFace sentiment analysis"
      ]
    },
    {
      "cell_type": "code",
      "execution_count": null,
      "metadata": {
        "id": "R6WCNJHnUBqS",
        "outputId": "79ef130c-a1e7-4a1e-9af1-6f55298a64fc"
      },
      "outputs": [
        {
          "name": "stderr",
          "output_type": "stream",
          "text": [
            "No model was supplied, defaulted to distilbert-base-uncased-finetuned-sst-2-english and revision af0f99b (https://huggingface.co/distilbert-base-uncased-finetuned-sst-2-english).\n",
            "Using a pipeline without specifying a model name and revision in production is not recommended.\n"
          ]
        }
      ],
      "source": [
        "sentiment_analysis_pipeline = pipeline(\"sentiment-analysis\")\n",
        "\n",
        "def hugging_face_sentiment_analysis(text):\n",
        "    \"\"\"\n",
        "    Get sentiment scores using HugginFace\n",
        "    \"\"\"\n",
        "    results = sentiment_analysis_pipeline(text)\n",
        "    # print(results[0])\n",
        "\n",
        "    # Extract sentiment label and score\n",
        "    sentiment_label = results[0][\"label\"]\n",
        "    sentiment_score = results[0][\"score\"]\n",
        "\n",
        "    return {\"label\": sentiment_label, \"score\": sentiment_score}\n",
        "\n",
        "pre_df[\"Sentiment_Scores_Hugging_Face\"] = pre_df[\"Remove_non_Alphabetic\"].apply(hugging_face_sentiment_analysis)"
      ]
    },
    {
      "cell_type": "markdown",
      "metadata": {
        "id": "119TCIIHUBqS"
      },
      "source": [
        "# 5. Run and show the results via visualizations (e.g. Confusion matrix / bar plots) comparing the results"
      ]
    },
    {
      "cell_type": "markdown",
      "metadata": {
        "id": "G8I9KjH_UBqS"
      },
      "source": [
        "### Confusion Matrix"
      ]
    },
    {
      "cell_type": "code",
      "execution_count": null,
      "metadata": {
        "id": "5vCmaTNuUBqS"
      },
      "outputs": [],
      "source": [
        "nltk_scores = pre_df[\"Sentiment_Scores_NLTK_VADER\"]\n",
        "spacy_scores = pre_df[\"Sentiment_Scores_SpaCy_TextBlob\"]\n",
        "\n",
        "actual_sentiments = []\n",
        "nltk_sentiments = []\n",
        "spacy_sentiments = []\n",
        "hugging_face_sentiments = []"
      ]
    },
    {
      "cell_type": "code",
      "execution_count": null,
      "metadata": {
        "id": "K4A37Z8gUBqT"
      },
      "outputs": [],
      "source": [
        "for nltk_score, spacy_score in zip(nltk_scores, spacy_scores):\n",
        "    nltk_sentiment = \"Negative\" if -1 <= nltk_score[\"compound\"] < -0.05 else \"Neutral\" if -0.05 <= nltk_score[\"compound\"] < 0.05 else \"Positive\" if 0.05 <= nltk_score[\"compound\"] <= 1.0 else None\n",
        "    spacy_sentiment = \"Negative\" if spacy_score[\"polarity\"] < 0 else \"Neutral\" if spacy_score[\"polarity\"] == 0.0 else \"Positive\"\n",
        "\n",
        "    pre_df[\"Sentiment_Scores_NLTK_VADER\"] = nltk_sentiment\n",
        "    pre_df[\"Sentiment_Scores_SpaCy_TextBlob\"] = spacy_sentiment\n",
        "\n",
        "    nltk_sentiments.append(nltk_sentiment)\n",
        "    spacy_sentiments.append(spacy_sentiment)"
      ]
    },
    {
      "cell_type": "code",
      "execution_count": null,
      "metadata": {
        "id": "mwwOyhfSUBqT"
      },
      "outputs": [],
      "source": [
        "for index, row in pre_df.iterrows():\n",
        "    hugging_face_sentiment = row[\"Sentiment_Scores_Hugging_Face\"][\"label\"]\n",
        "    hugging_face_sentiments.append((hugging_face_sentiment.capitalize()))"
      ]
    },
    {
      "cell_type": "code",
      "execution_count": null,
      "metadata": {
        "id": "mIE3mO4EUBqT"
      },
      "outputs": [],
      "source": [
        "for index, row in pre_df.iterrows():\n",
        "    actual_sentiment = row[\"Label\"]\n",
        "    actual_sentiments.append(actual_sentiment)"
      ]
    },
    {
      "cell_type": "code",
      "execution_count": null,
      "metadata": {
        "id": "4nZ1qiMVUBqT",
        "outputId": "2e1beb01-e29f-4e42-94ac-8456d01844a7"
      },
      "outputs": [
        {
          "name": "stdout",
          "output_type": "stream",
          "text": [
            "NLTK Confusion Matrix: [[11939  5071  5532]\n",
            " [ 5849  5062  7407]\n",
            " [ 3858  5062 11911]]\n",
            "\n",
            "SpaCy Confusion Matrix: [[ 9738  7875  4929]\n",
            " [ 4516  7175  6627]\n",
            " [ 3854  6846 10131]]\n",
            "\n",
            "Hugging Face Confusion Matrix: [[19809     0  2733]\n",
            " [13739     0  4579]\n",
            " [10532     0 10299]]\n",
            "\n"
          ]
        }
      ],
      "source": [
        "labels = [\"Negative\", \"Neutral\", \"Positive\"]\n",
        "nltk_confusion_matrix = confusion_matrix(actual_sentiments, nltk_sentiments, labels=labels)\n",
        "spacy_confusion_matrix = confusion_matrix(actual_sentiments, spacy_sentiments, labels=labels)\n",
        "hugging_face_confusion_matrix = confusion_matrix(actual_sentiments, hugging_face_sentiments, labels=labels)\n",
        "\n",
        "\n",
        "print(f\"NLTK Confusion Matrix: {nltk_confusion_matrix}\\n\")\n",
        "print(f\"SpaCy Confusion Matrix: {spacy_confusion_matrix}\\n\")\n",
        "print(f\"Hugging Face Confusion Matrix: {hugging_face_confusion_matrix}\\n\")"
      ]
    },
    {
      "cell_type": "markdown",
      "metadata": {
        "id": "car_sc7vUBqT"
      },
      "source": [
        "### Visualization"
      ]
    },
    {
      "cell_type": "code",
      "execution_count": null,
      "metadata": {
        "id": "8D6CAhHkUBqT",
        "outputId": "50c4522a-e629-40a4-cfa2-5c01aec2ad34"
      },
      "outputs": [
        {
          "data": {
            "image/png": "[encoded data removed]",
            "text/plain": [
              "<Figure size 2000x900 with 6 Axes>"
            ]
          },
          "metadata": {},
          "output_type": "display_data"
        }
      ],
      "source": [
        "plt.figure(figsize=(20, 9))\n",
        "plt.subplot(1, 3, 1)\n",
        "sns.heatmap(nltk_confusion_matrix, annot=True, cmap=\"Greens\", fmt=\"d\", xticklabels=labels, yticklabels=labels)\n",
        "plt.title(\"NLTK Confusion Matrix\")\n",
        "\n",
        "plt.subplot(1, 3, 2)\n",
        "sns.heatmap(spacy_confusion_matrix, annot=True, cmap=\"Greens\", fmt=\"d\", xticklabels=labels, yticklabels=labels)\n",
        "plt.title(\"SpaCy Confusion Matrix\")\n",
        "\n",
        "plt.subplot(1, 3, 3)\n",
        "sns.heatmap(hugging_face_confusion_matrix, annot=True, cmap=\"Greens\", fmt=\"d\", xticklabels=labels, yticklabels=labels)\n",
        "plt.title(\"Hugging Face Confusion Matrix\")\n",
        "\n",
        "plt.tight_layout()\n",
        "plt.show()\n",
        "\n",
        "nltk_accuracy = np.trace(nltk_confusion_matrix) / np.sum(nltk_confusion_matrix)\n",
        "spacy_accuracy = np.trace(spacy_confusion_matrix) / np.sum(spacy_confusion_matrix)\n",
        "hugging_face_accuracy = np.trace(hugging_face_confusion_matrix) / np.sum(hugging_face_confusion_matrix)\n"
      ]
    }
  ]
}